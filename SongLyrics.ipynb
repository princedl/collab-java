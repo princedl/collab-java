{
  "nbformat": 4,
  "nbformat_minor": 0,
  "metadata": {
    "colab": {
      "name": "SongLyrics.ipynb",
      "provenance": [],
      "collapsed_sections": [],
      "authorship_tag": "ABX9TyPP8jco+6K9VvrXa0AL3KKi",
      "include_colab_link": true
    },
    "kernelspec": {
      "name": "python3",
      "display_name": "Python 3"
    },
    "language_info": {
      "name": "python"
    }
  },
  "cells": [
    {
      "cell_type": "markdown",
      "metadata": {
        "id": "view-in-github",
        "colab_type": "text"
      },
      "source": [
        "<a href=\"https://colab.research.google.com/github/princedl/collab-java/blob/master/SongLyrics.ipynb\" target=\"_parent\"><img src=\"https://colab.research.google.com/assets/colab-badge.svg\" alt=\"Open In Colab\"/></a>"
      ]
    },
    {
      "cell_type": "code",
      "metadata": {
        "id": "g644bHbz95qj"
      },
      "source": [
        "DEBUG = True\n",
        "DEBUG = False"
      ],
      "execution_count": null,
      "outputs": []
    },
    {
      "cell_type": "code",
      "metadata": {
        "id": "gBVmWGAc_qwN"
      },
      "source": [
        "class SongLyrics:\n",
        "\n",
        "  # first = list()\n",
        "  # last = list()\n",
        "\n",
        "  @classmethod\n",
        "  def createFromLyrics(cls, text):\n",
        "    return cls(text)\n",
        "\n",
        "\n",
        "  def __init__(self, text):\n",
        "    self.first = ['A', 'B', 'C']\n",
        "    self.last = ['AL', 'BL', 'CL']\n",
        "\n",
        "\n",
        "  def findFirst(self, text):\n",
        "    for i, t in enumerate(self.first):\n",
        "      if t==text:\n",
        "        return i, t\n",
        "    return -1, None\n",
        "\n",
        "\n"
      ],
      "execution_count": null,
      "outputs": []
    },
    {
      "cell_type": "code",
      "metadata": {
        "id": "ufWq2q1kAi0C"
      },
      "source": [
        "sl = SongLyrics.createFromLyrics('text')"
      ],
      "execution_count": null,
      "outputs": []
    },
    {
      "cell_type": "code",
      "metadata": {
        "colab": {
          "base_uri": "https://localhost:8080/"
        },
        "id": "52lv1T69A0Me",
        "outputId": "f86d8303-841c-4d1f-963b-654c1e958f05"
      },
      "source": [
        "sl.findFirst('AS')"
      ],
      "execution_count": null,
      "outputs": [
        {
          "output_type": "execute_result",
          "data": {
            "text/plain": [
              "(-1, None)"
            ]
          },
          "metadata": {
            "tags": []
          },
          "execution_count": 27
        }
      ]
    },
    {
      "cell_type": "code",
      "metadata": {
        "colab": {
          "base_uri": "https://localhost:8080/"
        },
        "id": "C-tQczF7BDT0",
        "outputId": "e5885852-554f-4701-fd02-7781acbeaa23"
      },
      "source": [
        "sl.first"
      ],
      "execution_count": null,
      "outputs": [
        {
          "output_type": "execute_result",
          "data": {
            "text/plain": [
              "['A', 'B', 'C']"
            ]
          },
          "metadata": {
            "tags": []
          },
          "execution_count": 15
        }
      ]
    },
    {
      "cell_type": "code",
      "metadata": {
        "colab": {
          "base_uri": "https://localhost:8080/"
        },
        "id": "y0Wb3T6OBEyr",
        "outputId": "848cfb92-5670-4388-885a-0fcb7d872cfb"
      },
      "source": [
        "sl.last"
      ],
      "execution_count": null,
      "outputs": [
        {
          "output_type": "execute_result",
          "data": {
            "text/plain": [
              "['AL', 'BL', 'CL']"
            ]
          },
          "metadata": {
            "tags": []
          },
          "execution_count": 16
        }
      ]
    },
    {
      "cell_type": "code",
      "metadata": {
        "id": "v_xwd-aTBFj2",
        "colab": {
          "base_uri": "https://localhost:8080/",
          "height": 129
        },
        "outputId": "0dfc00e7-c2c6-4af1-e6b6-a43a3f82c856"
      },
      "source": [
        "get_ipython.class()"
      ],
      "execution_count": null,
      "outputs": [
        {
          "output_type": "error",
          "ename": "SyntaxError",
          "evalue": "ignored",
          "traceback": [
            "\u001b[0;36m  File \u001b[0;32m\"<ipython-input-30-a9bb2c35cf07>\"\u001b[0;36m, line \u001b[0;32m1\u001b[0m\n\u001b[0;31m    get_ipython.class()\u001b[0m\n\u001b[0m                    ^\u001b[0m\n\u001b[0;31mSyntaxError\u001b[0m\u001b[0;31m:\u001b[0m invalid syntax\n"
          ]
        }
      ]
    },
    {
      "cell_type": "code",
      "metadata": {
        "id": "9ERSqyEeE88L"
      },
      "source": [
        ""
      ],
      "execution_count": null,
      "outputs": []
    }
  ]
}