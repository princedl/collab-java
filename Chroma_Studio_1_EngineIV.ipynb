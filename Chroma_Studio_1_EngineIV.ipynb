{
  "nbformat": 4,
  "nbformat_minor": 0,
  "metadata": {
    "colab": {
      "name": " Chroma-Studio-1-EngineIV.ipynb",
      "provenance": [],
      "collapsed_sections": [],
      "toc_visible": true,
      "mount_file_id": "1SlE9AZP68pcXOTnEn5K7cwD43vADS02G",
      "authorship_tag": "ABX9TyNf2ckMM3WMT9UyKWolNrpB",
      "include_colab_link": true
    },
    "kernelspec": {
      "display_name": "Python 3",
      "name": "python3"
    }
  },
  "cells": [
    {
      "cell_type": "markdown",
      "metadata": {
        "id": "view-in-github",
        "colab_type": "text"
      },
      "source": [
        "<a href=\"https://colab.research.google.com/github/princedl/collab-java/blob/master/Chroma_Studio_1_EngineIV.ipynb\" target=\"_parent\"><img src=\"https://colab.research.google.com/assets/colab-badge.svg\" alt=\"Open In Colab\"/></a>"
      ]
    },
    {
      "cell_type": "markdown",
      "metadata": {
        "id": "EMfdzT6VoB2m"
      },
      "source": [
        "LOCAL\n",
        "---\n",
        "```\n",
        "jupyter-notebook --NotebookApp.allow_origin='https://colab.research.google.com' --port=8888 --NotebookApp.port_retries=0\n",
        "\n",
        "mp3 Custom Tags\n",
        "https://stackoverflow.com/questions/45201589/custom-key-in-mp3-file-metadata\n",
        "```"
      ]
    },
    {
      "cell_type": "code",
      "metadata": {
        "id": "3OdiryFuH2xY"
      },
      "source": [
        "#This is new and newer"
      ],
      "execution_count": null,
      "outputs": []
    },
    {
      "cell_type": "code",
      "metadata": {
        "id": "aJuWEuT8miP_"
      },
      "source": [
        "#sudo apt-get install rubberband-cli"
      ],
      "execution_count": null,
      "outputs": []
    },
    {
      "cell_type": "code",
      "metadata": {
        "id": "BoIyfw-_zAjh"
      },
      "source": [
        "#!pip3 install --upgrade ipython"
      ],
      "execution_count": null,
      "outputs": []
    },
    {
      "cell_type": "code",
      "metadata": {
        "id": "xHcSBzRbJJ_b"
      },
      "source": [
        "!pip3 install librosa --upgrade\n",
        "!pip3 install matplotlib\n",
        "!pip3 install tqdm\n",
        "!pip3 install Cython\n",
        "!pip3 install madmom\n",
        "#PyDub https://medium.com/better-programming/simple-audio-processing-in-python-with-pydub-c3a217dabf11\n",
        "!pip3 install pydub\n",
        "#!pip3 install -U ipython-namespaces\n",
        "#%load_ext ipython_namespaces"
      ],
      "execution_count": null,
      "outputs": []
    },
    {
      "cell_type": "code",
      "metadata": {
        "id": "kyziRuZ0GCxY"
      },
      "source": [
        "import librosa\n",
        "import librosa.display\n",
        "import numpy as np\n",
        "from pathlib import Path\n",
        "from urllib.parse import unquote\n",
        "import os.path\n",
        "import IPython\n",
        "from IPython.display import Audio\n",
        "import matplotlib.pyplot as plt\n",
        "import pickle\n",
        "from tqdm import tqdm\n",
        "import math\n",
        "from pydub import AudioSegment\n",
        "import madmom\n",
        "import soundfile as sf\n",
        "import os\n",
        "import xml.etree.ElementTree as ET\n",
        "import mutagen\n"
      ],
      "execution_count": null,
      "outputs": []
    },
    {
      "cell_type": "code",
      "metadata": {
        "id": "UnXLfYfWKT8S"
      },
      "source": [
        "librosa.__version__"
      ],
      "execution_count": null,
      "outputs": []
    },
    {
      "cell_type": "markdown",
      "metadata": {
        "id": "GfHkMmIeOs6t"
      },
      "source": [
        "#TRACK"
      ]
    },
    {
      "cell_type": "code",
      "metadata": {
        "id": "VVK24qp1tjaN"
      },
      "source": [
        "def computeBPM_s(start, end, beats=32):\n",
        "  return 60/((end-start)/beats)"
      ],
      "execution_count": null,
      "outputs": []
    },
    {
      "cell_type": "code",
      "metadata": {
        "id": "JdVNd8Krl1iD"
      },
      "source": [
        "def exportCueMeasures(t, measures):\n",
        "  print(t)\n",
        "  ebg = BeatGrid.fromTrack(t)\n",
        "  fb = ebg.get111ind()\n",
        "  for i, m in enumerate(measures):\n",
        "    cue = f'<Poi Name=\"{m}\" Pos=\"{ebg.getBeat_p(fb+4*m):.6f}\" Num=\"{i+1}\" Type=\"cue\" />'\n",
        "    print(cue)"
      ],
      "execution_count": null,
      "outputs": []
    },
    {
      "cell_type": "code",
      "metadata": {
        "id": "rtqlq-Xgl1iE"
      },
      "source": [
        "def exportCueBeats(t, beats):\n",
        "  print(t)\n",
        "  ebg = BeatGrid.fromTrack(t)\n",
        "  for i, b in enumerate(beats):\n",
        "    cue = f'<Poi Name=\"{b}\" Pos=\"{ebg.getBeat_p(b):.6f}\" Num=\"{i+1}\" Type=\"cue\" />'\n",
        "    print(cue)"
      ],
      "execution_count": null,
      "outputs": []
    },
    {
      "cell_type": "code",
      "metadata": {
        "id": "xEhISaRKq8Aj"
      },
      "source": [
        "def getDownbeats(res, dbi=1):\n",
        "  dbs = [t for t, b in res if int(b)==dbi]\n",
        "  return dbs"
      ],
      "execution_count": null,
      "outputs": []
    },
    {
      "cell_type": "code",
      "metadata": {
        "id": "AF_e6QR6BB_1"
      },
      "source": [
        "def exportBeatgridVDJ(t, delta=0.0, dbi=1):\n",
        "  ebg = BeatGrid.fromTrack(t)\n",
        "  dbs = ebg.getDownBeatTimes(dbi)\n",
        "  for i, db in enumerate(dbs[:-1]):\n",
        "    st = db+delta\n",
        "    et = dbs[i+1]+delta\n",
        "\n",
        "    bpm = computeBPM_s(st, et, beats=4)\n",
        "    bpmr = round(bpm,3)-.005\n",
        "    etprime = st+60/bpmr*4\n",
        "    if etprime < et:\n",
        "      print('et=', et, '; etp=', etprime)\n",
        "\n",
        "    poi = f'<Poi Pos=\"{st:.6f}\" Type=\"beatgrid\" Bpm=\"{bpmr:.3f}000\"/>'\n",
        "    print(poi)"
      ],
      "execution_count": null,
      "outputs": []
    },
    {
      "cell_type": "code",
      "metadata": {
        "id": "huSqXlUVO9Cy"
      },
      "source": [
        "def getComment(track):\n",
        "  res = mutagen.File(track)\n",
        "  if 'COMM::eng' in res:\n",
        "      return res['COMM::eng'].text[0]\n",
        "  else:\n",
        "    return None"
      ],
      "execution_count": null,
      "outputs": []
    },
    {
      "cell_type": "code",
      "metadata": {
        "id": "H3JTmj1IgpoE"
      },
      "source": [
        "def primarykey(track):\n",
        "  return str(track)"
      ],
      "execution_count": null,
      "outputs": []
    },
    {
      "cell_type": "code",
      "metadata": {
        "id": "2QKktXVIvT6C"
      },
      "source": [
        "def getMixedInKeyKey(track):\n",
        "  comment = getComment(track)\n",
        "  if comment is not None:\n",
        "    mik = comment.split(';')[0]\n",
        "    key = mik.split('-')[0]\n",
        "    return key\n",
        "  else:\n",
        "    return None"
      ],
      "execution_count": null,
      "outputs": []
    },
    {
      "cell_type": "code",
      "metadata": {
        "id": "juyXNzGGsJJ5"
      },
      "source": [
        "def lookup(pk):\n",
        "  for t in tracks:\n",
        "    if primarykey(t)==pk:\n",
        "      return t"
      ],
      "execution_count": null,
      "outputs": []
    },
    {
      "cell_type": "markdown",
      "metadata": {
        "id": "YhsHpT5uIm7-"
      },
      "source": [
        "#GENERIC"
      ]
    },
    {
      "cell_type": "code",
      "metadata": {
        "id": "Mf4XlleEa56C"
      },
      "source": [
        "def loadMadmomBeats(fn):\n",
        "  beats = list()\n",
        "\n",
        "  try:\n",
        "    f = open(fn)\n",
        "  except IOError:\n",
        "    print('error')\n",
        "    return beats\n",
        "  else:\n",
        "    with f:\n",
        "      for line in f:\n",
        "        parts = line.split('\\t')\n",
        "        t = float(parts[0])\n",
        "        beat = int(parts[1].strip())\n",
        "        #print(t, beat)\n",
        "        beats.append((t, beat))\n",
        "      return beats"
      ],
      "execution_count": null,
      "outputs": []
    },
    {
      "cell_type": "code",
      "metadata": {
        "id": "5287whIsdG_k"
      },
      "source": [
        "#FAKE!!!!!!!!!!!!!!!!\n",
        "#class MadmomBeatGrid():\n",
        "class BeatGrid():\n",
        "\n",
        "  @classmethod\n",
        "  def fromTrack(cls, track):\n",
        "    return cls(track)\n",
        "\n",
        "\n",
        "  \n",
        "\n",
        "  def __init__(self, track):\n",
        "    self.track = track\n",
        "\n",
        "    #fn = getWSLFilename(track)\n",
        "    fn = str(track)\n",
        "    fn = fn.replace('mp3', 'beats')\n",
        "    print(fn)\n",
        "    self.beats = loadMadmomBeats(fn)\n",
        "    if(len(self.beats)==0):\n",
        "      fn = str(track)\n",
        "      fn = fn+'.beats'\n",
        "      print(fn)\n",
        "      self.beats = loadMadmomBeats(fn)\n",
        "\n",
        "\n",
        "\n",
        "    #Store cue/and loops - code is ugly\n",
        "    self.loops = dict()\n",
        "    self.cues = dict()\n",
        "\n",
        "    # for pm in track.findall('POSITION_MARK'):\n",
        "    #   if pm.attrib['Type'] == '4':\n",
        "    #     self.loops[pm.attrib['Name']]=pm.attrib\n",
        "    #   else: \n",
        "    #     self.cues[pm.attrib['Name']]=pm.attrib\n",
        "  \n",
        "\n",
        "  def getNearestBeat(self, position):\n",
        "    mind = 99999.\n",
        "    mini = -1\n",
        "    for i, b in enumerate(self.beats):\n",
        "      pos, _= b\n",
        "      d = abs(pos - position)\n",
        "      if(d < mind):\n",
        "        mind = d\n",
        "        mini = i\n",
        "    return mini, mind\n",
        "\n",
        "\n",
        "  def get111ind(self):\n",
        "    for i in range(4):\n",
        "      _, b = self.beats[i]\n",
        "      if b == 1:\n",
        "        return i\n",
        "    return -1\n",
        "\n",
        "\n",
        "  def getLastBeatInd(self):\n",
        "    fb = self.get111ind()\n",
        "    _, b  = self.beats[fb]\n",
        "    #Get the last one\n",
        "    last = -1\n",
        "    for i in range(fb, len(self.beats)):\n",
        "      if self.beats[i][1]==b:\n",
        "        last = i\n",
        "    return last\n",
        "\n",
        "\n",
        "\n",
        "  def getBeat_p(self, i):\n",
        "    p, _ = self.beats[i]\n",
        "    return p\n",
        "\n",
        "\n",
        "\n",
        "  def getBeatTimes(self):\n",
        "    beattimes = list()\n",
        "    for b in self.beats:\n",
        "      t, _ = b\n",
        "      beattimes.append(t)\n",
        "    return beattimes\n",
        "\n",
        "  def getDownBeatTimes(self, db_ind=1):\n",
        "    beattimes = list()\n",
        "    for b in self.beats:\n",
        "      t, beat = b\n",
        "      #print(t, beat)\n",
        "      if beat==db_ind:\n",
        "        beattimes.append(t)\n",
        "    return beattimes\n",
        "\n",
        "\n",
        "  #convenience :)\n",
        "  def loop_s(self, name):\n",
        "    return float(self.loops[name]['Start'])\n",
        "  \n",
        "  def loop_e(self, name):\n",
        "    return float(self.loops[name]['End'])\n",
        "\n",
        "  def cue_p(self, name):\n",
        "    return float(self.cues[name]['Start'])\n",
        "\n",
        "\n",
        "  def cueBind(self):\n",
        "    if 'b' in self.cues:\n",
        "      t = self.cue_p('b')\n",
        "      i, _ = self.getNearestBeat(t)\n",
        "      return i\n",
        "    else:\n",
        "      return None\n",
        "\n",
        "  \n",
        "  def cueQind(self, q):\n",
        "    for pm in self.track.findall('POSITION_MARK'):\n",
        "      if pm.attrib['Name'].startswith(q):\n",
        "        t = float(pm.attrib['Start'])\n",
        "        i, _ = self.getNearestBeat(t)\n",
        "        return i\n",
        "        \n",
        "    return None"
      ],
      "execution_count": null,
      "outputs": []
    },
    {
      "cell_type": "markdown",
      "metadata": {
        "id": "EzrDnYpT5TlS"
      },
      "source": [
        "# Process Tracks"
      ]
    },
    {
      "cell_type": "code",
      "metadata": {
        "id": "cJyXQv54zwVm"
      },
      "source": [
        "def isDebug(track):\n",
        "  # #print(track.attrib['TrackID'])\n",
        "  # if track.attrib['TrackID']=='121212126':\n",
        "  #   return True\n",
        "  return False"
      ],
      "execution_count": null,
      "outputs": []
    },
    {
      "cell_type": "markdown",
      "metadata": {
        "id": "giv6DKkuJaMD"
      },
      "source": [
        "Taken from https://stackoverflow.com/questions/57082826/how-can-a-chromagram-file-produced-by-librosa-be-interpreted-as-a-set-of-musical"
      ]
    },
    {
      "cell_type": "code",
      "metadata": {
        "id": "TMafy_NPzr63"
      },
      "source": [
        "def plotChromas(chromas):\n",
        "  fig, ax = plt.subplots(figsize=(30, 10))\n",
        "  img = librosa.display.specshow(chromas, y_axis='chroma', x_axis='time', ax=ax)\n",
        "  fig.colorbar(img, ax=ax)\n",
        "  ax.set(title='Chromagram')"
      ],
      "execution_count": null,
      "outputs": []
    },
    {
      "cell_type": "code",
      "metadata": {
        "id": "XdbSqj1U1_OV"
      },
      "source": [
        "def processTrack(track):\n",
        "  \n",
        "  filename = str(track)\n",
        "  if(os.path.isfile(filename)):\n",
        "    print(filename + \" exists, will be processed.\")\n",
        "  \n",
        "\n",
        "\n",
        "    bg = BeatGrid(track)\n",
        "\n",
        "    firstBeat = bg.get111ind()\n",
        "    lastBeat = bg.getLastBeatInd()\n",
        "    if bg.cueBind() is not None:\n",
        "      firstBeat = bg.cueBind()\n",
        "\n",
        "    y, sr = librosa.load(str(filename))\n",
        "    #y, sr = librosa.load(MIXX / filename)\n",
        "    \n",
        "    chromas = librosa.feature.chroma_stft(y=y, sr=sr)\n",
        "\n",
        "\n",
        "    beats = bg.getBeatTimes()\n",
        "\n",
        "    medians = list()\n",
        "    for i in range(lastBeat-firstBeat):\n",
        "      st = beats[firstBeat + i]\n",
        "      et = beats[firstBeat + i + 1]\n",
        "      median = np.median(chromas[:,librosa.time_to_frames(st):librosa.time_to_frames(et)], axis = 1)\n",
        "      median = median / np.linalg.norm(median)\n",
        "      medians.append(median)\n",
        "\n",
        "    medians16 = list()\n",
        "    for i in range(lastBeat-firstBeat):\n",
        "      st = beats[firstBeat + i]\n",
        "      et = beats[firstBeat + i + 1]\n",
        "      delta = et - st\n",
        "      for j in range(4):\n",
        "        st16 = st+j*delta/4\n",
        "        et16 = st16+delta/4\n",
        "        #print(st, et ,st16, et16)\n",
        "        median16 = np.median(chromas[:,librosa.time_to_frames(st16):librosa.time_to_frames(et16)], axis = 1)\n",
        "        median16 = median16 / np.linalg.norm(median16)\n",
        "        medians16.append(median16)\n",
        "\n",
        "\n",
        "    downbeats = bg.getDownBeatTimes()\n",
        "    medians1 = list()\n",
        "    for i in range(len(downbeats)-1):\n",
        "      st1 = downbeats[i]\n",
        "      et1 = downbeats[i + 1]\n",
        "      median1 = np.median(chromas[:,librosa.time_to_frames(st1):librosa.time_to_frames(et1)], axis = 1)\n",
        "      median1 = median1 / np.linalg.norm(median1)\n",
        "      medians1.append(median1)\n",
        "\n",
        "    print(4)\n",
        "\n",
        "\n",
        "    if isDebug(track):\n",
        "      for i in range(16):\n",
        "        plotChromas(chromas[:,_65beats[i]:_65beats[i+1]])\n",
        "\n",
        "    print(filename + \" DONE.\")\n",
        "    return medians, medians1, medians16\n",
        "\n"
      ],
      "execution_count": null,
      "outputs": []
    },
    {
      "cell_type": "code",
      "metadata": {
        "id": "cH0NZVDeXIWi"
      },
      "source": [
        "!ls /mnt/c//Users/andre/OneDrive/Music/Library/5fevftlD8al7MLhmBE9bQfX/'Rick Astley - Never Gonna Give You Up.mp3'"
      ],
      "execution_count": null,
      "outputs": []
    },
    {
      "cell_type": "markdown",
      "metadata": {
        "id": "U0ekykRP3gtc"
      },
      "source": [
        "MAIN LOOP\n",
        "\n",
        "\n",
        "---\n",
        "\n"
      ]
    },
    {
      "cell_type": "code",
      "metadata": {
        "id": "JTTHpxGarwi0"
      },
      "source": [
        "def dump(fn, l):\n",
        "  with open(fn, 'wb') as filehandle:\n",
        "    # store the data as binary data stream\n",
        "    pickle.dump(l, filehandle)"
      ],
      "execution_count": null,
      "outputs": []
    },
    {
      "cell_type": "code",
      "metadata": {
        "id": "Y9QKpLqcea_Y"
      },
      "source": [
        "import warnings\n",
        "\n",
        "#ignore by message\n",
        "#warnings.filterwarnings(\"ignore\", message=\"PySoundFile failed.\")\n",
        "\n",
        "#part of the message is also okay\n",
        "#warnings.filterwarnings(\"ignore\", message=\"divide by zero encountered\") \n",
        "#warnings.filterwarnings(\"ignore\", message=\"invalid value encountered\")"
      ],
      "execution_count": null,
      "outputs": []
    },
    {
      "cell_type": "code",
      "metadata": {
        "id": "SDepRl6gJNry"
      },
      "source": [
        "for path in tqdm(list(Path('/mnt/c/Users/andre/OneDrive/Music/Library/').rglob('*.mp3'))):\n",
        "  dumpfile = Path(f'{str(path)}-pair.m4116Ldata')\n",
        "  if not dumpfile.exists():\n",
        "\n",
        "    m4, m1, m16 = None, None, None\n",
        "    #try:\n",
        "    m4, m1, m16 = processTrack(path)\n",
        "    # except Exception as e:\n",
        "    #   print(repr(e))\n",
        "    #   print(f'ERROR PROCESSING {dumpfile} , skipping.......')\n",
        "    #   continue\n",
        "\n",
        "    \n",
        "    #Skip if no mp3 is found\n",
        "    if m4 is None:\n",
        "      print('ALARM, m4 is None')\n",
        "      continue\n",
        "\n",
        "    triplet = (m4, m1, m16)\n",
        "    dump(dumpfile, triplet)\n",
        "\n",
        "    #trackMedians.extend(m)\n",
        "    #trackNames.extend(names)\n",
        "\n",
        "\n"
      ],
      "execution_count": null,
      "outputs": []
    },
    {
      "cell_type": "code",
      "metadata": {
        "id": "4t996Q7cxl7q"
      },
      "source": [
        "BREAK()\n",
        "for track in tqdm(tracks):\n",
        "  filename = getWSLFilename(track)\n",
        "  dumpfilename = Path(f'{filename}-pair.m4116data')\n",
        "  #Skip if already processed\n",
        "  # if dumpfilename.exists():\n",
        "  #   print(f'{dumpfilename} already exists, skipping.......')\n",
        "  #   continue\n",
        "\n",
        "  if not isYellow(track):\n",
        "    continue\n",
        "\n",
        "  m4, m1, m16 = None, None, None\n",
        "  try:\n",
        "    m4, m1, m16 = processTrack(track)\n",
        "  except Exception as e:\n",
        "    print(repr(e))\n",
        "    print(f'ERROR PROCESSING {dumpfilename} , skipping.......')\n",
        "    continue\n",
        "\n",
        "  \n",
        "  #Skip if no mp3 is found\n",
        "  if m4 is None:\n",
        "    continue\n",
        "\n",
        "  triplet = (m4, m1, m16)\n",
        "  dump(dumpfilename, triplet)\n",
        "\n",
        "  #trackMedians.extend(m)\n",
        "  #trackNames.extend(names)"
      ],
      "execution_count": null,
      "outputs": []
    },
    {
      "cell_type": "markdown",
      "metadata": {
        "id": "y0ufEx5GuIDo"
      },
      "source": [
        "#Use Chromas\n",
        "Reload data and query it!\n",
        "\n"
      ]
    },
    {
      "cell_type": "markdown",
      "metadata": {
        "id": "IV3ZFlhcZ4XD"
      },
      "source": [
        "# Neuer Abschnitt"
      ]
    },
    {
      "cell_type": "code",
      "metadata": {
        "id": "NunMghR9h_sl"
      },
      "source": [
        "def createPitchedAudio(track, duration, which):\n",
        "\n",
        "  pitches = [0, -1, -2, -3, 1, 2, 3]\n",
        "  witches = [0, 1, 2, 3, 4, 5, 6]\n",
        "  pa = list()\n",
        "\n",
        "\n",
        "  audio = AudioSegment.from_file(track, format=\"mp3\")\n",
        "  audio[0:duration*1000].export(f'audio-00.wav', format='wav')\n",
        "\n",
        "  for i, p in enumerate(pitches):\n",
        "    if i in which:\n",
        "      rubbertext = f'rubberband --tempo 1. --pitch {p}  audio-00.wav audio-00-{p}.wav'\n",
        "      print(rubbertext)\n",
        "      os.system(rubbertext)\n",
        "      paudio = AudioSegment.from_file(f'audio-00-{p}.wav', format=\"wav\")\n",
        "      pa.append(paudio)\n",
        "    else:\n",
        "      pa.append(None)\n",
        "\n",
        "  return pa\n"
      ],
      "execution_count": null,
      "outputs": []
    },
    {
      "cell_type": "code",
      "metadata": {
        "id": "bvMJd3iHkQYH"
      },
      "source": [
        "%%time\n",
        "TBP = createPitchedAudio(tb)"
      ],
      "execution_count": null,
      "outputs": []
    },
    {
      "cell_type": "code",
      "metadata": {
        "id": "BFZzDJighlfV"
      },
      "source": [
        "def buildOverlayPitch(track, pattern, targetBPM, pitches, firstBeat=None):\n",
        "  id = primarykey(track)\n",
        "\n",
        "  bg = BeatGrid(track)\n",
        "  if firstBeat is None:\n",
        "    print(\"Firstbeat is NONE\")\n",
        "    firstBeat = bg.get111ind()\n",
        "\n",
        "  firstbeat = firstBeat\n",
        "\n",
        "\n",
        "  maxm = max(pattern)\n",
        "  duration = bg.getBeat_p(firstbeat+maxm*4+8)\n",
        "  pa = createPitchedAudio(track, duration, pitches)\n",
        "\n",
        "  overlay = AudioSegment.empty()\n",
        "  for i, b in enumerate(pattern):\n",
        "    start = bg.getBeat_p(firstbeat+b*4)\n",
        "    end   = bg.getBeat_p(firstbeat+b*4+4)\n",
        "\n",
        "    start_ms = int(start*1000)\n",
        "    end_ms   = int(end*1000)\n",
        "\n",
        "    pitch = pitches[i]\n",
        "    chop = pa[pitch][start_ms:end_ms]\n",
        "    #IPython.display.display(chop)\n",
        "\n",
        "    overlay += chop\n",
        "  \n",
        "\n",
        "  id = 'GENERIC'\n",
        "  #IPython.display.display(overlay)\n",
        "  overlay.export(f'{id}-overlay.wav', format='wav')\n",
        "\n",
        "  bpm = computeBPM_s(0, len(overlay)/1000, beats=len(pattern)*4)\n",
        "  print(f'Overlay BPM{bpm}')\n",
        "  ratio = targetBPM/bpm\n",
        "\n",
        "  # if pitchShift==5 or pitchShift==7:\n",
        "  #   pitchShift=0\n",
        "  # if pitchShift==8 or pitchShift==6:\n",
        "  #   pitchShift=1\n",
        "  # if pitchShift==4:\n",
        "  #   pitchShift=-1\n",
        "\n",
        " \n",
        "\n",
        "  rubbertext = f'rubberband --tempo {targetBPM/bpm} --pitch 0  {id}-overlay.wav {id}-overlay-rubber.wav'\n",
        "  print(rubbertext)\n",
        "  os.system(rubbertext)\n",
        "\n",
        "  #TODO - Overlay Filename?\n",
        "  overlay = AudioSegment.from_file(f'{id}-overlay-rubber.wav', format=\"wav\")\n",
        "  return overlay"
      ],
      "execution_count": null,
      "outputs": []
    },
    {
      "cell_type": "code",
      "metadata": {
        "id": "UYiOUSIJI-Cz"
      },
      "source": [
        "def buildOverlay(track, pattern, targetBPM, pitchShift=0, firstBeat=None):\n",
        "  id = primarykey(track)\n",
        "\n",
        "  bg = BeatGrid(track)\n",
        "  if firstBeat is None:\n",
        "    print(\"Firstbeat is NONE\")\n",
        "    firstBeat = bg.get111ind()\n",
        "\n",
        "  firstbeat = firstBeat\n",
        "\n",
        "  audio = AudioSegment.from_file(track, format=\"mp3\")\n",
        "\n",
        "  overlay = AudioSegment.empty()\n",
        "  for b in pattern:\n",
        "    start = bg.getBeat_p(firstbeat+b*4)\n",
        "    end   = bg.getBeat_p(firstbeat+b*4+4)\n",
        "\n",
        "    start_ms = int(start*1000)\n",
        "    end_ms   = int(end*1000)\n",
        "    chop = audio[start_ms:end_ms]\n",
        "    #IPython.display.display(chop)\n",
        "\n",
        "    overlay += chop\n",
        "  \n",
        "\n",
        "  id = 'GENERIC'\n",
        "  #IPython.display.display(overlay)\n",
        "  overlay.export(f'{id}-overlay.wav', format='wav')\n",
        "\n",
        "  bpm = computeBPM_s(0, len(overlay)/1000, beats=len(pattern)*4)\n",
        "  print(f'Overlay BPM{bpm}')\n",
        "  ratio = targetBPM/bpm\n",
        "\n",
        "  # if pitchShift==5 or pitchShift==7:\n",
        "  #   pitchShift=0\n",
        "  # if pitchShift==8 or pitchShift==6:\n",
        "  #   pitchShift=1\n",
        "  # if pitchShift==4:\n",
        "  #   pitchShift=-1\n",
        "\n",
        "  realPitchShift = [0, -1, -2, -3, 1, 0, -1, 0, -1, 3, 2, 1][pitchShift]\n",
        "  print(f'Pitchshift: in:{pitchShift}, res:{realPitchShift}')\n",
        "\n",
        "  rubbertext = f'rubberband --tempo {targetBPM/bpm} --pitch {realPitchShift}  {id}-overlay.wav {id}-overlay-rubber.wav'\n",
        "  print(rubbertext)\n",
        "  os.system(rubbertext)\n",
        "\n",
        "  #TODO - Overlay Filename?\n",
        "  overlay = AudioSegment.from_file(f'{id}-overlay-rubber.wav', format=\"wav\")\n",
        "  return overlay"
      ],
      "execution_count": null,
      "outputs": []
    },
    {
      "cell_type": "code",
      "metadata": {
        "id": "uQM01UkndQKy"
      },
      "source": [
        "def outputMix(loop, score, tag, loopdb=-15, ovldb=-12, filename=None, hps=None, _pattternind=4, showmix = True):\n",
        "  s_ = score\n",
        "  t = lookup(s_[1])\n",
        "  print('-', tag , '-')\n",
        "  pattern = s_[_pattternind]\n",
        "  overlay = buildOverlay(t, pattern, loop[1], s_[2])\n",
        "  if hps is not None:\n",
        "    overlay = overlay.high_pass_filter(hps)\n",
        "  mix = (loop[0] + loopdb).overlay(overlay+ovldb)\n",
        "  if showmix:\n",
        "    IPython.display.display(mix)\n",
        "  if filename is not None:\n",
        "    mix.export(f'{filename}.wav', format='wav')\n",
        "    print(f'Exported {filename}.')\n",
        "\n",
        "  return mix\n"
      ],
      "execution_count": null,
      "outputs": []
    },
    {
      "cell_type": "code",
      "metadata": {
        "id": "Hm98hNJNnaib"
      },
      "source": [
        "def outputMixPitch(loop, score, tag, loopdb=-15, ovldb=-12, filename=None, hps=None, _pattternind=4, showmix = True):\n",
        "  s_ = score\n",
        "  t = lookup(s_[1])\n",
        "  print('-', tag , '-')\n",
        "  pattern = s_[_pattternind]\n",
        "  overlay = buildOverlayPitch(t, pattern, loop[1], s_[4])\n",
        "  if hps is not None:\n",
        "    overlay = overlay.high_pass_filter(hps)\n",
        "  mix = (loop[0] + loopdb).overlay(overlay+ovldb)\n",
        "  if showmix:\n",
        "    IPython.display.display(mix)\n",
        "  if filename is not None:\n",
        "    mix.export(f'{filename}.wav', format='wav')\n",
        "    print(f'Exported {filename}.')\n",
        "\n",
        "  return mix\n"
      ],
      "execution_count": null,
      "outputs": []
    },
    {
      "cell_type": "code",
      "metadata": {
        "id": "DIuJ8jRn16RK"
      },
      "source": [
        "def loadPair(fn):\n",
        "  with open(fn, 'rb') as filehandle:\n",
        "    # read the data as binary data stream\n",
        "    triplet = pickle.load(filehandle)\n",
        "    return triplet"
      ],
      "execution_count": null,
      "outputs": []
    },
    {
      "cell_type": "code",
      "metadata": {
        "id": "i98AvEJ62X7N"
      },
      "source": [
        "BEATS=96+96\n",
        "\n",
        "trackm4 = dict()   #---------------- Step 1\n",
        "trackm1 = dict()\n",
        "trackm16 = dict()\n",
        "remove = list()\n",
        "tracks = list()\n",
        "\n",
        "for path in tqdm(list(Path('/mnt/c/Users/andre/OneDrive/Music/Library/').rglob('*.mp3'))):\n",
        "\n",
        "  dumpfile = Path(f'{str(path)}-pair.m4116Ldata')\n",
        "  if dumpfile.exists():\n",
        "    id = str(path)\n",
        "    #print(id)\n",
        "    # if id=='6443':\n",
        "    #   print('>'+id+'<')\n",
        "    #print(f'Loading {dumpfilename}')\n",
        "    m4, m1, m16 = loadPair(dumpfile)\n",
        "    if len(m4)<BEATS:\n",
        "      remove.append(path)\n",
        "      continue\n",
        "    tracks.append(path)\n",
        "    trackm4[id]=np.stack(m4[0:BEATS])\n",
        "    trackm1[id]=np.stack(m1[0:int(BEATS/4)])\n",
        "    trackm16[id]=np.stack(m16[0:BEATS*16])\n",
        "  else:\n",
        "    remove.append(path)\n",
        "    if fn.find('Library') > 0:\n",
        "      print('Not found', dumpfile)\n",
        "  \n",
        "  \n"
      ],
      "execution_count": null,
      "outputs": []
    },
    {
      "cell_type": "code",
      "metadata": {
        "id": "bvJzbW2JhOXc"
      },
      "source": [
        "len(remove)"
      ],
      "execution_count": null,
      "outputs": []
    },
    {
      "cell_type": "code",
      "metadata": {
        "id": "zn84McKKZ2SD"
      },
      "source": [
        "dur  = ['C','C#','D','D#','E','F','F#','G','G#','A','A#','B']\n",
        "moll = ['cm','c#m','dm','d#m','em','fm','f#m','gm','g#m','am','a#m','bm']"
      ],
      "execution_count": null,
      "outputs": []
    },
    {
      "cell_type": "code",
      "metadata": {
        "id": "yad5-8xTZ5VN"
      },
      "source": [
        "def normalize(x):\n",
        "  return x/np.linalg.norm(x)"
      ],
      "execution_count": null,
      "outputs": []
    },
    {
      "cell_type": "code",
      "metadata": {
        "id": "v7g8bXcUYyAX"
      },
      "source": [
        "C3 = normalize(np.array([1, 0, 0, 0, 1, 0, 0, 1, 0, 0, 0, 0]))\n",
        "cm3 = normalize(np.array([1, 0, 0, 1, 0, 0, 0, 1, 0, 0, 0, 0]))"
      ],
      "execution_count": null,
      "outputs": []
    },
    {
      "cell_type": "code",
      "metadata": {
        "id": "k0vDZ6AraPgC"
      },
      "source": [
        "def createPCP(chord):\n",
        "  if chord in dur:\n",
        "    ind = dur.index(chord)\n",
        "    print('dur: ', ind)\n",
        "    return np.roll(C3, ind)\n",
        "  elif chord.lower() in moll:\n",
        "    ind = moll.index(chord.lower())\n",
        "    print('moll: ', ind)\n",
        "    return np.roll(cm3, ind)\n",
        "  else:\n",
        "    print(chord, \" not found\")"
      ],
      "execution_count": null,
      "outputs": []
    },
    {
      "cell_type": "code",
      "metadata": {
        "id": "magrUfkIbxEk"
      },
      "source": [
        "createPCP('G')\n",
        "createPCP('K')\n",
        "createPCP('g#m')"
      ],
      "execution_count": null,
      "outputs": []
    },
    {
      "cell_type": "code",
      "metadata": {
        "id": "Zs6B0jezd6j7"
      },
      "source": [
        "C_Dur = 'C,dm,em,F,G,am,bm'.split(',')\n",
        "c_Moll = 'cm,D,E,fm,gm,A,B'.split(',')"
      ],
      "execution_count": null,
      "outputs": []
    },
    {
      "cell_type": "code",
      "metadata": {
        "id": "qj1-Ulw6eah9"
      },
      "source": [
        "pcpsC = np.stack([createPCP(c) for c in C_Dur])\n",
        "pcpsCm = np.stack([createPCP(c) for c in c_Moll])"
      ],
      "execution_count": null,
      "outputs": []
    },
    {
      "cell_type": "code",
      "metadata": {
        "id": "WTeh4lWQgxJK"
      },
      "source": [
        "def createPCPs(key):\n",
        "  #Töne in den Tonleitern ==> Grundtöne der Akkorde\n",
        "  C = np.array([1, 0, 1, 0, 1, 1, 0, 1, 0, 1, 0, 1])==1\n",
        "  cm = np.array([1, 0, 1, 1, 0, 1, 0, 1, 1, 0, 1, 0])==1\n",
        "  pitches = np.array(['C','C#','D','D#','E','F','F#','G','G#','A','A#','B'])\n",
        "  if key in dur:\n",
        "    ind = dur.index(key)\n",
        "    print('dur tonleiter: ', ind)\n",
        "    xx = np.roll(pitches, -ind)[C]\n",
        "    xx[1]=xx[1]+'m'\n",
        "    xx[2]=xx[2]+'m'\n",
        "    xx[5]=xx[5]+'m'\n",
        "    xx[6]=xx[6]+'0'\n",
        "    return (np.roll(pcpsC, ind, axis=1), xx)\n",
        "  elif key.lower() in moll:\n",
        "    ind = moll.index(key.lower())\n",
        "    print('moll tonleiter: ', ind)\n",
        "    return (np.roll(pcpsCm,ind,axis=1),  np.roll(pitches, -ind)[cm])\n",
        "  else:\n",
        "    print(key, \" not found\")\n",
        "    return (None, None)"
      ],
      "execution_count": null,
      "outputs": []
    },
    {
      "cell_type": "code",
      "metadata": {
        "id": "DxyVY3EwHHi5"
      },
      "source": [
        "def createFreePCPS():\n",
        "  allpcps =      [createPCP(c) for c in dur]\n",
        "  allpcps.extend([createPCP(c) for c in moll])\n",
        "  return np.stack(allpcps)"
      ],
      "execution_count": null,
      "outputs": []
    },
    {
      "cell_type": "markdown",
      "metadata": {
        "id": "Y7LdJsOGNj3C"
      },
      "source": [
        "##trackm"
      ]
    },
    {
      "cell_type": "code",
      "metadata": {
        "id": "ql7A61ZYXym7"
      },
      "source": [
        "trackm=trackm4"
      ],
      "execution_count": null,
      "outputs": []
    },
    {
      "cell_type": "code",
      "metadata": {
        "id": "h0vTZ19kKQoH"
      },
      "source": [
        "def matchPCPS(chromas, pcps):\n",
        "  match = np.matmul(chromas, pcps.T)\n",
        "  ind = np.argmax(match, axis=1)\n",
        "\n",
        "  return np.stack(pcps[ind])"
      ],
      "execution_count": null,
      "outputs": []
    },
    {
      "cell_type": "code",
      "metadata": {
        "id": "GD37DsuIb-4v"
      },
      "source": [
        "freepcps = createFreePCPS()\n",
        "trackp = dict()\n",
        "trackf = dict()\n",
        "for t in tqdm(tracks):\n",
        "  key = getMixedInKeyKey(t)\n",
        "  if key is None:\n",
        "    continue\n",
        "  key = key.split('/')[0] #C#/D#\n",
        "  key = key.strip()\n",
        "  #print(t, '>'+key+'<')\n",
        "  pcps, x = createPCPs(key)\n",
        "  if pcps is None:\n",
        "    continue\n",
        "  #print(x)\n",
        "  id = str(t)\n",
        "  chromas = trackm[id]\n",
        "  trackp[id]=matchPCPS(chromas,pcps)\n",
        "  trackf[id]=matchPCPS(chromas,freepcps)"
      ],
      "execution_count": null,
      "outputs": []
    },
    {
      "cell_type": "markdown",
      "metadata": {
        "id": "GdDP55lq6sqE"
      },
      "source": [
        "LOAD THE QUERY SONG [32 BEATS]\n",
        "\n",
        "\n",
        "---\n",
        "\n"
      ]
    },
    {
      "cell_type": "code",
      "metadata": {
        "id": "Ewn8ZVJtCeWZ"
      },
      "source": [
        "def processQueryLoop(x, _33beats):\n",
        "  \n",
        "  chromas = librosa.feature.chroma_stft(y=x, sr=sr)\n",
        "\n",
        "  medians4 = list()\n",
        "  for i in range(len(_33beats)-1):\n",
        "    st = _33beats[i]\n",
        "    et = _33beats[i + 1]\n",
        "    median4 = np.median(chromas[:,librosa.time_to_frames(st):librosa.time_to_frames(et)], axis = 1)\n",
        "    median4 = median4 / np.linalg.norm(median4)\n",
        "    medians4.append(median4)\n",
        "\n",
        "  medians16 = list()\n",
        "  for i in range(len(_33beats)-1):\n",
        "    st = _33beats[i]\n",
        "    et = _33beats[i + 1]\n",
        "    delta = et - st\n",
        "    for j in range(4):\n",
        "      st16 = st+j*delta/4\n",
        "      et16 = st16+delta/4\n",
        "      median16 = np.median(chromas[:,librosa.time_to_frames(st16):librosa.time_to_frames(et16)], axis = 1)\n",
        "      median16 = median16 / np.linalg.norm(median16)\n",
        "      medians16.append(median16)\n",
        "\n",
        "  # downbeats = list()\n",
        "  # for i in [0, 4, 8, 12, 16, 20, 24, 28, 32]:\n",
        "  #   downbeats.append(_33beats[i])\n",
        "\n",
        "  medians1 = list()\n",
        "  for i in range(0, len(_33beats)-1, 4):\n",
        "    #print('m1:',i)\n",
        "    st1 = _33beats[i]\n",
        "    et1 = _33beats[i + 4]\n",
        "    median1 = np.median(chromas[:,librosa.time_to_frames(st1):librosa.time_to_frames(et1)], axis = 1)\n",
        "    median1 = median1 / np.linalg.norm(median1)\n",
        "    medians1.append(median1)\n",
        "\n",
        "\n",
        "\n",
        "\n",
        "\n",
        "\n",
        "  return medians4, medians1, medians16\n"
      ],
      "execution_count": null,
      "outputs": []
    },
    {
      "cell_type": "code",
      "metadata": {
        "id": "ZXvtXCJpM49Q"
      },
      "source": [
        "#list(range(0, 32-1, 4))"
      ],
      "execution_count": null,
      "outputs": []
    },
    {
      "cell_type": "markdown",
      "metadata": {
        "id": "U5L5qvdPje-b"
      },
      "source": [
        "##Q\n"
      ]
    },
    {
      "cell_type": "code",
      "metadata": {
        "id": "xTyOSk4y0f_j"
      },
      "source": [
        "def findTrack(name):\n",
        "  found = list()\n",
        "  for track in tracks:\n",
        "    if str(track).lower().find(name.lower()) > 0:\n",
        "      found.append(track)\n",
        "      print(track)\n",
        "  return found"
      ],
      "execution_count": null,
      "outputs": []
    },
    {
      "cell_type": "code",
      "metadata": {
        "id": "WiYIp4UI2VAd"
      },
      "source": [
        "found = findTrack(\"magdalena\"); found"
      ],
      "execution_count": null,
      "outputs": []
    },
    {
      "cell_type": "code",
      "metadata": {
        "id": "0Wxt_DvyL-3G"
      },
      "source": [
        "qt = found[1]"
      ],
      "execution_count": null,
      "outputs": []
    },
    {
      "cell_type": "code",
      "metadata": {
        "id": "WVg0-_SFL-3H"
      },
      "source": [
        "mbg = BeatGrid.fromTrack(qt)"
      ],
      "execution_count": null,
      "outputs": []
    },
    {
      "cell_type": "code",
      "metadata": {
        "id": "6nIyIplWZ7ux"
      },
      "source": [
        "mbg.get111ind()"
      ],
      "execution_count": null,
      "outputs": []
    },
    {
      "cell_type": "code",
      "metadata": {
        "id": "rJowzM92Z_5h"
      },
      "source": [
        "mbg.getLastBeatInd()"
      ],
      "execution_count": null,
      "outputs": []
    },
    {
      "cell_type": "code",
      "metadata": {
        "id": "Q33wDUJKL-3H"
      },
      "source": [
        "audio = AudioSegment.from_file(qt, format=\"mp3\")"
      ],
      "execution_count": null,
      "outputs": []
    },
    {
      "cell_type": "code",
      "metadata": {
        "id": "CpOtmkrUL-3I"
      },
      "source": [
        "x, sr = librosa.load(str(qt)) "
      ],
      "execution_count": null,
      "outputs": []
    },
    {
      "cell_type": "code",
      "metadata": {
        "id": "DNFJxIMCL-3I"
      },
      "source": [
        "bt1     = mbg.getDownBeatTimes(1)\n",
        "bt2     = mbg.getDownBeatTimes(2)\n",
        "bt3     = mbg.getDownBeatTimes(3)\n",
        "bt4     = mbg.getDownBeatTimes(4)\n",
        "\n",
        "\n",
        "#print(dbs_ind)\n",
        "b1clicks = librosa.clicks(bt1, sr=sr, click_freq=1000, length=len(x))\n",
        "b2clicks = librosa.clicks(bt2, sr=sr, click_freq=1500, length=len(x))\n",
        "b3clicks = librosa.clicks(bt3, sr=sr, click_freq=2000, length=len(x))\n",
        "b4clicks = librosa.clicks(bt4, sr=sr, click_freq=2500, length=len(x))\n",
        "\n",
        "clicks = b1clicks + b2clicks + b3clicks + b4clicks\n",
        "#clicks = b1clicks\n",
        "\n",
        "\n",
        "\n",
        "#dbclicks = librosa.clicks(mbg.getDownBeatTimes(3), sr=sr, click_freq=2000, length=len(x))\n",
        "\n",
        "sf.write('xplusclicks.wav', x+clicks, sr, subtype='PCM_24')\n",
        "\n",
        "clickseg = AudioSegment.from_wav('xplusclicks.wav')\n",
        "clickseg"
      ],
      "execution_count": null,
      "outputs": []
    },
    {
      "cell_type": "code",
      "metadata": {
        "id": "cJgwWe-oEdB8"
      },
      "source": [
        "#28 // 65"
      ],
      "execution_count": null,
      "outputs": []
    },
    {
      "cell_type": "code",
      "metadata": {
        "id": "OiTI0dbW0v5S"
      },
      "source": [
        "bt = 65\n",
        "for bp, b in enumerate(mbg.beats):\n",
        "  if abs(b[0]-bt) < 3:\n",
        "    print(bp, b)"
      ],
      "execution_count": null,
      "outputs": []
    },
    {
      "cell_type": "code",
      "metadata": {
        "id": "DlFAySHBz8Eq"
      },
      "source": [
        "qs_ = list()\n",
        "qstart =  48\n",
        "qend   = 112\n",
        "qs_.append((qstart, qend))\n",
        "qlen = (qend-qstart)//16\n",
        "print(qlen)"
      ],
      "execution_count": null,
      "outputs": []
    },
    {
      "cell_type": "code",
      "metadata": {
        "id": "2ODulfc6FNug"
      },
      "source": [
        "112-48"
      ],
      "execution_count": null,
      "outputs": []
    },
    {
      "cell_type": "code",
      "metadata": {
        "id": "fiaSGoFtq8tY"
      },
      "source": [
        "def plotTransition(audio):\n",
        "  plt.figure(figsize=(20,10))  #plt.subplots(len(channels), sharex=True, figsize=(50,100))\n",
        "  #fig=plt.figure(figsize=(12,8), dpi= 100, facecolor='w', edgecolor='k')\n",
        "\n",
        "\n",
        "  channel_sounds = audio.split_to_mono()\n",
        "  samples = [s.get_array_of_samples() for s in channel_sounds]\n",
        "\n",
        "  fp_arr = np.array(samples).T.astype(np.float32)\n",
        "  fp_arr /= np.iinfo(samples[0].typecode).max\n",
        "\n",
        "  print(fp_arr.shape)\n",
        "  plt.plot(fp_arr)\n",
        "  plt.axvline(x=fp_arr.shape[0]/2)\n",
        "  plt.show()"
      ],
      "execution_count": null,
      "outputs": []
    },
    {
      "cell_type": "code",
      "metadata": {
        "id": "_zEgM0nzL-3N"
      },
      "source": [
        "def chopLoops(audio, bg, qs):\n",
        "  loops   = list()\n",
        "  loops16 = list()\n",
        "  for q in qs:\n",
        "    start_ms = int(bg.getBeat_p(q[0])*1000)\n",
        "    end_ms   = int(bg.getBeat_p(q[1])*1000)\n",
        "\n",
        "    loop = audio[start_ms:end_ms]\n",
        "    bpm = computeBPM_s(start_ms/1000, end_ms/1000, beats=q[1]-q[0])\n",
        "\n",
        "    loops.append((loop, bpm))\n",
        "\n",
        "    for i, b in enumerate(range(q[0], q[1]-15, 16)):\n",
        "      print('==>',i+1, b,b+16)\n",
        "      start_ms = int(bg.getBeat_p(b)*1000) #+correct[i]\n",
        "      end_ms   = int(bg.getBeat_p(b+16)*1000) #+correct[i+1]\n",
        "      loop = audio[start_ms:end_ms]\n",
        "\n",
        "      plotTransition(audio[end_ms-50:end_ms+50])\n",
        "      bpm = computeBPM_s(start_ms/1000, end_ms/1000, beats=16)\n",
        "\n",
        "      loops16.append((loop, bpm))\n",
        "  \n",
        "  return loops, loops16\n"
      ],
      "execution_count": null,
      "outputs": []
    },
    {
      "cell_type": "code",
      "metadata": {
        "id": "s4cCWjitu4xQ"
      },
      "source": [
        "qs_"
      ],
      "execution_count": null,
      "outputs": []
    },
    {
      "cell_type": "code",
      "metadata": {
        "id": "Ch6X87MC11Ea"
      },
      "source": [
        "loops, loops16 = chopLoops(audio, mbg, qs_)"
      ],
      "execution_count": null,
      "outputs": []
    },
    {
      "cell_type": "code",
      "metadata": {
        "id": "L62Qr2VUv4EX"
      },
      "source": [
        "loops[0][0]"
      ],
      "execution_count": null,
      "outputs": []
    },
    {
      "cell_type": "code",
      "metadata": {
        "id": "FGlh8jhzc7T8"
      },
      "source": [
        "qt"
      ],
      "execution_count": null,
      "outputs": []
    },
    {
      "cell_type": "code",
      "metadata": {
        "id": "TKeWYta9oIU9"
      },
      "source": [
        "qkey = getMixedInKeyKey(qt)\n",
        "qkey = qkey.split('/')[0] #C#/D#\n",
        "qkey = qkey.strip()\n",
        "print(qt, '>'+qkey+'<')"
      ],
      "execution_count": null,
      "outputs": []
    },
    {
      "cell_type": "code",
      "metadata": {
        "id": "hl8Z07rqc7T9"
      },
      "source": [
        "qpcps, qx = createPCPs(qkey)\n",
        "qx"
      ],
      "execution_count": null,
      "outputs": []
    },
    {
      "cell_type": "markdown",
      "metadata": {
        "id": "TO4lnUDhgBYZ"
      },
      "source": [
        "###Q change 4, 16 (beats)"
      ]
    },
    {
      "cell_type": "code",
      "metadata": {
        "id": "7tsF1f116c1T"
      },
      "source": [
        "qchromas = list()\n",
        "for q in qs_:\n",
        "  _beat0ind = q[0]\n",
        "  _33beats = mbg.getBeatTimes()[q[0]:q[1]+1]\n",
        "  print(len(_33beats))\n",
        "\n",
        "  qmedians4, qmedians1, qmedians16 = processQueryLoop(x, _33beats)\n",
        "\n",
        "  qchroma = np.stack(qmedians4)\n",
        "  qfree   = matchPCPS(qchroma,freepcps)\n",
        "  qkey    = matchPCPS(qchroma,qpcps)\n",
        "  qchromas.append((qchroma, qfree, qkey))"
      ],
      "execution_count": null,
      "outputs": []
    },
    {
      "cell_type": "code",
      "metadata": {
        "id": "z7ET_px-NPsE"
      },
      "source": [
        "qs_"
      ],
      "execution_count": null,
      "outputs": []
    },
    {
      "cell_type": "code",
      "metadata": {
        "id": "JS25H8oHY8wn"
      },
      "source": [
        "qmine = trackm[str(qt)][34:162]"
      ],
      "execution_count": null,
      "outputs": []
    },
    {
      "cell_type": "code",
      "metadata": {
        "id": "UPWcvw_6L-3S"
      },
      "source": [
        "len(qmedians1)"
      ],
      "execution_count": null,
      "outputs": []
    },
    {
      "cell_type": "markdown",
      "metadata": {
        "id": "KHcs60lMIYFz"
      },
      "source": [
        "###trackse"
      ]
    },
    {
      "cell_type": "code",
      "metadata": {
        "id": "8QfL3LWhEots"
      },
      "source": [
        "trackse = trackf.keys()\n",
        "valuese = [trackf[k] for k in trackse]\n",
        "trackme = np.concatenate(valuese)"
      ],
      "execution_count": null,
      "outputs": []
    },
    {
      "cell_type": "code",
      "metadata": {
        "id": "TQ8vFk-fC7D_"
      },
      "source": [
        "qchroma_.shape"
      ],
      "execution_count": null,
      "outputs": []
    },
    {
      "cell_type": "markdown",
      "metadata": {
        "id": "Cna3dXOqdo7V"
      },
      "source": [
        "##ULTRAWIDE Q, with 2 Measures match\n",
        "scores = list()\n",
        "for pitch in tqdm([-3, -2, -1, 0, 1, 2, 3]):\n",
        "  qr = np.roll(qchroma_, pitch, axis=1)\n",
        "  s = np.matmul(trackme, qr.T)\n",
        "  dims = qr.shape[0]\n",
        "  beats = int(dims/16)\n",
        "  tstart = 0\n",
        "  for track in trackse:\n",
        "    score = 0\n",
        "    pattern = list()\n",
        "    for b in range(0,beats, 2):\n",
        "      max     = -1.0\n",
        "      maxbeat = -1\n",
        "      for m_, measure in enumerate(range(tstart, tstart+384, 32)):\n",
        "        #print(measure)\n",
        "        x = np.trace(s[measure:measure+32, b*16:(b+2)*16]) #Was 0:16\n",
        "        if x > max:\n",
        "          max = x\n",
        "          maxbeat = m_*2\n",
        "      #print(maxbeat, x)\n",
        "      score += max\n",
        "      pattern.append(maxbeat)\n",
        "      pattern.append(maxbeat+1)\n",
        "    if not np.isnan(score):\n",
        "      scores.append((score, track, -pitch, pattern))\n",
        "    else:\n",
        "      print('isnan')\n",
        "    tstart+=384    "
      ]
    },
    {
      "cell_type": "markdown",
      "metadata": {
        "id": "J1t0tZ6jCDDu"
      },
      "source": [
        "###ultraWideQ8->2MeasuresMatch"
      ]
    },
    {
      "cell_type": "code",
      "metadata": {
        "id": "aOzTBFbWZIw5"
      },
      "source": [
        "BEATS//4-8+1"
      ],
      "execution_count": null,
      "outputs": []
    },
    {
      "cell_type": "code",
      "metadata": {
        "id": "VKlKPXUxnSKz"
      },
      "source": [
        "#measureToIndex\n",
        "def m2i(m, divisionsPerBeat):\n",
        "  return int(m*4*divisionsPerBeat)"
      ],
      "execution_count": null,
      "outputs": []
    },
    {
      "cell_type": "code",
      "metadata": {
        "id": "RlGQZRZZ6dMI"
      },
      "source": [
        "#EX ULTRAWIDE Q, with 2 Measures match\n",
        "def NOSIR-ultraWideQ2MeasuresMatch(trackse, trackme, qchroma_, divisionsPerBeat=1):\n",
        "  dpb = divisionsPerBeat\n",
        "  scores = list()\n",
        "  qbeats = int(qchroma_.shape[0]//divisionsPerBeat)\n",
        "  qmeasures = qbeats // 4\n",
        "\n",
        "  print('qbeats:=', qbeats, '; qmeasures:=', qmeasures)\n",
        "\n",
        "  NUMTRACKS=len(trackse)\n",
        "\n",
        "  for w in tqdm(range(0,NUMTRACKS,500)):  \n",
        "    for pitch in tqdm([0]):\n",
        "      wend = min(w+500, NUMTRACKS)\n",
        "      print(w,wend)\n",
        "      qr = np.roll(qchroma_, pitch, axis=1)\n",
        "      s = np.matmul(trackme[w*int(BEATS*divisionsPerBeat):wend*int(BEATS*divisionsPerBeat),:], qr.T)\n",
        "      #print(trackme.shape, qr.shape, s.shape)\n",
        "      tstart = 0\n",
        "      for ti, track in enumerate(list(trackse)[w:wend]):\n",
        "        #print('********************* New Track ************')\n",
        "        gscore = 0\n",
        "        patterns = list()\n",
        "        pattern8s = list()\n",
        "        for length in [8, 4]:\n",
        "          score = 0\n",
        "          pattern = list()\n",
        "          pattern8 = list()\n",
        "          #print('qm', 0,qmeasures, length)\n",
        "          for qm in range(0,qmeasures, length):\n",
        "            max         = -1.0\n",
        "            maxmeasure  = -1\n",
        "            max8        = -1.0\n",
        "            maxmeasure8 = -1\n",
        "            for tm in range(0,BEATS//4-length+1,4): #Welche TMs werden in Betracht gezogen?\n",
        "              #print(tstart, tm, m2i(tm, dpb))\n",
        "              x = np.trace(s[tstart+m2i(tm, dpb):tstart+m2i(tm+length, dpb), m2i(qm, dpb):m2i(qm+length, dpb)])\n",
        "              #print(ti, length, 'qm=', qm, 'tm=', tm, x)\n",
        "              # if tm==0:\n",
        "              #   print(ti, track, pitch, 'qm',qm, 'tm',tm, 'tstart', tstart, x)\n",
        "              #print(tm, qm, x, m2i(tm, dpb), m2i(qm, dpb))\n",
        "              # if qm==4:\n",
        "              #     print(f'qm={qm}, tm={tm}, score={x}')\n",
        "              if x > max:\n",
        "                max = x\n",
        "                maxmeasure = tm\n",
        "              if tm <= 16 and x > max8:\n",
        "                max8 = x\n",
        "                maxmeasure8 = tm\n",
        "            #print(maxbeat, x)\n",
        "            score += max\n",
        "            #print(max, maxmeasure)\n",
        "            for i in range(length):\n",
        "              pattern.append(maxmeasure+i)\n",
        "              pattern8.append(maxmeasure8+i)\n",
        "          gscore += score\n",
        "          patterns.append((score, pattern, pattern8))\n",
        "\n",
        "        if not np.isnan(gscore):\n",
        "          #scores.append((gscore, track, pitch, patterns[0][0], patterns[0][1], patterns[0][2], patterns[1][0], patterns[1][1], patterns[1][2], patterns[2][0], patterns[2][1], patterns[2][2], patterns[3][0], patterns[3][1], patterns[3][2]))\n",
        "          scores.append((gscore, track, pitch, patterns[0][0], patterns[0][1], patterns[0][2], patterns[1][0], patterns[1][1], patterns[1][2]))\n",
        "                        #patterns[2][0], patterns[2][1], patterns[2][2], patterns[3][0], patterns[3][1], patterns[3][2]))\n",
        "        else:\n",
        "          print('isnan')\n",
        "        tstart+=int(BEATS*divisionsPerBeat)\n",
        "  return scores"
      ],
      "execution_count": null,
      "outputs": []
    },
    {
      "cell_type": "code",
      "metadata": {
        "id": "s2-AFYYZH0eC"
      },
      "source": [
        ""
      ],
      "execution_count": null,
      "outputs": []
    },
    {
      "cell_type": "code",
      "metadata": {
        "id": "rj5OYF2jNHdn"
      },
      "source": [
        "def splitLine(line):\n",
        "  return int(line.strip().split(':')[1])"
      ],
      "execution_count": null,
      "outputs": []
    },
    {
      "cell_type": "code",
      "metadata": {
        "id": "Wd-gIvgNHtl3"
      },
      "source": [
        "trackcat = dict()\n",
        "for path in tqdm(list(Path('/mnt/c/Users/andre/OneDrive/Music/Library/').rglob('*.mp3'))):\n",
        "  #path = '/mnt/c/Users/andre/OneDrive/Music/Library/0KVU9o7yhQHIcXtCdYmM4IX/Alice DJ - Better Off Alone (Radio Edit).mp3'\n",
        "  dumpfile = Path(f'{str(path)}-.spleeter')\n",
        "\n",
        "  file1 = open(dumpfile, 'r')\n",
        "  lines = file1.readlines()\n",
        "\n",
        "  bass = drums = other = vocals = 0\n",
        "\n",
        "  bass = splitLine(lines[0])\n",
        "  drums = splitLine(lines[1])\n",
        "  other = splitLine(lines[2])\n",
        "  vocals = splitLine(lines[3])\n",
        "\n",
        "  print(dumpfile, bass, drums, other, vocals)\n",
        "\n",
        "  trackcat[str(path)]=(bass, drums, other, vocals)"
      ],
      "execution_count": null,
      "outputs": []
    },
    {
      "cell_type": "code",
      "metadata": {
        "id": "mcyZpetDKnMI"
      },
      "source": [
        "def analyzeSpleeter(tc):\n",
        "  bass, drums, other, vocals = tc\n",
        "  z = min(tc)\n",
        "  sps = 0\n",
        "  spe = 4\n",
        "  if vocals > z:\n",
        "    spe = vocals\n",
        "    if vocals % 2 == 1:\n",
        "      spe = vocals+1\n",
        "\n",
        "    sps = max(0, spe-4)\n",
        "\n",
        "  return sps, spe\n"
      ],
      "execution_count": null,
      "outputs": []
    },
    {
      "cell_type": "code",
      "metadata": {
        "id": "zfItocrFUooX"
      },
      "source": [
        "analyzeSpleeter(trackcat[tb])"
      ],
      "execution_count": null,
      "outputs": []
    },
    {
      "cell_type": "code",
      "metadata": {
        "id": "y01iqfdaUH8j"
      },
      "source": [
        ""
      ],
      "execution_count": null,
      "outputs": []
    },
    {
      "cell_type": "code",
      "metadata": {
        "id": "A7zjxM2xVxpZ"
      },
      "source": [
        "qchroma_ = qmanual\n",
        "q0 = qchroma_\n",
        "q1 = np.roll(qchroma_, 1, axis=1)\n",
        "q2 = np.roll(qchroma_, 2, axis=1)"
      ],
      "execution_count": null,
      "outputs": []
    },
    {
      "cell_type": "code",
      "metadata": {
        "id": "vMUckPMnV6J-"
      },
      "source": [
        "q0.shape"
      ],
      "execution_count": null,
      "outputs": []
    },
    {
      "cell_type": "code",
      "metadata": {
        "id": "S8aeEn8OV82f"
      },
      "source": [
        "q1.shape"
      ],
      "execution_count": null,
      "outputs": []
    },
    {
      "cell_type": "code",
      "metadata": {
        "id": "lPhwPOfgWAhI"
      },
      "source": [
        "st = np.concatenate((q0, q0, q0, q0), axis=0)"
      ],
      "execution_count": null,
      "outputs": []
    },
    {
      "cell_type": "code",
      "metadata": {
        "id": "D3xkmyC9XIT1"
      },
      "source": [
        "st.shape"
      ],
      "execution_count": null,
      "outputs": []
    },
    {
      "cell_type": "markdown",
      "metadata": {
        "id": "GegVZvn6ah9F"
      },
      "source": [
        "###ultraWideQSpleeterPitchMatch"
      ]
    },
    {
      "cell_type": "code",
      "metadata": {
        "id": "Vln-repNUIOi"
      },
      "source": [
        "#EX ULTRAWIDE Q, with 2 Measures match\n",
        "def ultraWideQSpleeterPitchMatch(trackse, trackme, qchroma_, divisionsPerBeat=1):\n",
        "  dpb = divisionsPerBeat\n",
        "  scores = list()\n",
        "  qbeats = int(qchroma_.shape[0]//divisionsPerBeat)\n",
        "  qmeasures = qbeats // 4\n",
        "\n",
        "  print('qbeats:=', qbeats, '; qmeasures:=', qmeasures)\n",
        "\n",
        "  NUMTRACKS=len(trackse)\n",
        "\n",
        "  for w in tqdm(range(0,NUMTRACKS,500)):  \n",
        "    wend = min(w+500, NUMTRACKS)\n",
        "    print(w,wend)\n",
        "    q0 = qchroma_\n",
        "    q1 = np.roll(qchroma_, 1, axis=1)\n",
        "    q2 = np.roll(qchroma_, 2, axis=1)\n",
        "    q3 = np.roll(qchroma_, 3, axis=1)\n",
        "    qm1 = np.roll(qchroma_, -1, axis=1)\n",
        "    qm2 = np.roll(qchroma_, -2, axis=1)\n",
        "    qm3 = np.roll(qchroma_, -3, axis=1)\n",
        "    qr = np.concatenate((q0, q1, q2, q3, qm1, qm2, qm3), axis=0)\n",
        "    s = np.matmul(trackme[w*int(BEATS*divisionsPerBeat):wend*int(BEATS*divisionsPerBeat),:], qr.T)\n",
        "    #print(trackme.shape, qr.shape, s.shape)\n",
        "    tstart = 0\n",
        "    for ti, track in enumerate(list(trackse)[w:wend]):\n",
        "      #spleetes start/end\n",
        "      tc = trackcat[track]\n",
        "      sps, spe = analyzeSpleeter(tc)\n",
        "      length = spe-sps\n",
        "      score = 0\n",
        "      scorenp = 0\n",
        "      pattern = list()\n",
        "      pitches = list()\n",
        "      pitch = 0\n",
        "      for qm in range(0,qmeasures, 1):\n",
        "        tm = sps + qm % length\n",
        "        #print(f'Coordinates {tm}/{qm}')\n",
        "        x0  = np.trace(s[tstart+m2i(tm, dpb):tstart+m2i(tm+1, dpb), m2i(qm, dpb):m2i(qm+1, dpb)])\n",
        "        x1  = np.trace(s[tstart+m2i(tm, dpb):tstart+m2i(tm+1, dpb), m2i(qm+1*qmeasures, dpb):m2i(qm+1*qmeasures+1, dpb)])\n",
        "        x2  = np.trace(s[tstart+m2i(tm, dpb):tstart+m2i(tm+1, dpb), m2i(qm+2*qmeasures, dpb):m2i(qm+2*qmeasures+1, dpb)])\n",
        "        x3  = np.trace(s[tstart+m2i(tm, dpb):tstart+m2i(tm+1, dpb), m2i(qm+3*qmeasures, dpb):m2i(qm+3*qmeasures+1, dpb)])\n",
        "        xm1 = np.trace(s[tstart+m2i(tm, dpb):tstart+m2i(tm+1, dpb), m2i(qm+4*qmeasures, dpb):m2i(qm+4*qmeasures+1, dpb)])\n",
        "        xm2 = np.trace(s[tstart+m2i(tm, dpb):tstart+m2i(tm+1, dpb), m2i(qm+5*qmeasures, dpb):m2i(qm+5*qmeasures+1, dpb)])\n",
        "        xm3 = np.trace(s[tstart+m2i(tm, dpb):tstart+m2i(tm+1, dpb), m2i(qm+6*qmeasures, dpb):m2i(qm+6*qmeasures+1, dpb)])\n",
        "        \n",
        "        pitchedx = [x0, x1, x2, x3, xm1, xm2, xm3]\n",
        "        maxp = max(pitchedx)\n",
        "        maxi = pitchedx.index(maxp)\n",
        "        #print(pitchedx, maxp, maxi)\n",
        "\n",
        "        pitch = maxi\n",
        "        # if maxi > 3:\n",
        "        #   pitch = 3-maxi\n",
        "        pitches.append(pitch)\n",
        "\n",
        " \n",
        "        score += maxp\n",
        "        scorenp += x0\n",
        "      for i in range(qmeasures):\n",
        "        pattern.append(sps+i % length)\n",
        "\n",
        "      if not np.isnan(score):\n",
        "        scores.append((score, track, pitch, pattern, pitches))\n",
        "      else:\n",
        "        print('isnan')\n",
        "      tstart+=int(BEATS*divisionsPerBeat)\n",
        "  return scores"
      ],
      "execution_count": null,
      "outputs": []
    },
    {
      "cell_type": "markdown",
      "metadata": {
        "id": "27u7b8n7T6Jf"
      },
      "source": [
        "###ultraWideQSpleeterMatch"
      ]
    },
    {
      "cell_type": "code",
      "metadata": {
        "id": "yKsfHUahvJmE"
      },
      "source": [
        "#EX ULTRAWIDE Q, with 2 Measures match\n",
        "def ultraWideQSpleeterMatch(trackse, trackme, qchroma_, divisionsPerBeat=1):\n",
        "  dpb = divisionsPerBeat\n",
        "  scores = list()\n",
        "  qbeats = int(qchroma_.shape[0]//divisionsPerBeat)\n",
        "  qmeasures = qbeats // 4\n",
        "\n",
        "  print('qbeats:=', qbeats, '; qmeasures:=', qmeasures)\n",
        "\n",
        "  NUMTRACKS=len(trackse)\n",
        "\n",
        "  for w in tqdm(range(0,NUMTRACKS,500)):  \n",
        "    for pitch in tqdm([-3, -2, -1, 0, 1, 2, 3]):\n",
        "      wend = min(w+500, NUMTRACKS)\n",
        "      print(w,wend)\n",
        "      qr = np.roll(qchroma_, pitch, axis=1)\n",
        "      s = np.matmul(trackme[w*int(BEATS*divisionsPerBeat):wend*int(BEATS*divisionsPerBeat),:], qr.T)\n",
        "      #print(trackme.shape, qr.shape, s.shape)\n",
        "      tstart = 0\n",
        "      for ti, track in enumerate(list(trackse)[w:wend]):\n",
        "        #spleetes start/end\n",
        "        tc = trackcat[track]\n",
        "        sps, spe = analyzeSpleeter(tc)\n",
        "        length = spe-sps\n",
        "        score = 0\n",
        "        pattern = list()\n",
        "        for qm in range(0,qmeasures, length):\n",
        "          x = np.trace(s[tstart+m2i(sps, dpb):tstart+m2i(sps+length, dpb), m2i(qm, dpb):m2i(qm+length, dpb)])\n",
        "          score += x\n",
        "        for i in range(qmeasures):\n",
        "          pattern.append(sps+i % length)\n",
        "\n",
        "        if not np.isnan(score):\n",
        "          scores.append((score, track, pitch, pattern))\n",
        "        else:\n",
        "          print('isnan')\n",
        "        tstart+=int(BEATS*divisionsPerBeat)\n",
        "  return scores"
      ],
      "execution_count": null,
      "outputs": []
    },
    {
      "cell_type": "code",
      "metadata": {
        "id": "c-LVSc72LXSJ"
      },
      "source": [
        "#EX ULTRAWIDE Q, with 2 Measures match\n",
        "def ultraWideQSpleeterMatch1Bar(trackse, trackme, qchroma_, divisionsPerBeat=1):\n",
        "  dpb = divisionsPerBeat\n",
        "  scores = list()\n",
        "  qbeats = int(qchroma_.shape[0]//divisionsPerBeat)\n",
        "  qmeasures = qbeats // 4\n",
        "\n",
        "  print('qbeats:=', qbeats, '; qmeasures:=', qmeasures)\n",
        "\n",
        "  NUMTRACKS=len(trackse)\n",
        "\n",
        "  for w in tqdm(range(0,NUMTRACKS,500)):  \n",
        "    for pitch in tqdm([-3, -2, -1, 0, 1, 2, 3]):\n",
        "      wend = min(w+500, NUMTRACKS)\n",
        "      print(w,wend)\n",
        "      qr = np.roll(qchroma_, pitch, axis=1)\n",
        "      s = np.matmul(trackme[w*int(BEATS*divisionsPerBeat):wend*int(BEATS*divisionsPerBeat),:], qr.T)\n",
        "      #print(trackme.shape, qr.shape, s.shape)\n",
        "      tstart = 0\n",
        "      for ti, track in enumerate(list(trackse)[w:wend]):\n",
        "        #spleetes start/end\n",
        "        tc = trackcat[track]\n",
        "        sps, spe = analyzeSpleeter(tc)\n",
        "        length = spe-sps\n",
        "        score = 0\n",
        "        pattern = list()\n",
        "        for qm in range(0,qmeasures, 1):\n",
        "          maxx=-1.0\n",
        "          maxtmx = -1\n",
        "          for tm in range(sps, spe):\n",
        "            length=1\n",
        "            x = np.trace(s[tstart+m2i(tm, dpb):tstart+m2i(tm+length, dpb), m2i(qm, dpb):m2i(qm+length, dpb)])\n",
        "            if x > maxx:\n",
        "              maxx = x\n",
        "              maxtm = tm\n",
        "          score += maxx\n",
        "          pattern.append(maxtm)\n",
        "\n",
        "        if not np.isnan(score):\n",
        "          scores.append((score, track, pitch, pattern))\n",
        "        else:\n",
        "          print('isnan')\n",
        "        tstart+=int(BEATS*divisionsPerBeat)\n",
        "  return scores"
      ],
      "execution_count": null,
      "outputs": []
    },
    {
      "cell_type": "code",
      "metadata": {
        "id": "Sny1unS0IlvA"
      },
      "source": [
        "findTrack('girls')"
      ],
      "execution_count": null,
      "outputs": []
    },
    {
      "cell_type": "code",
      "metadata": {
        "id": "SM9zevCnH_AP"
      },
      "source": [
        "trackcat[tb]"
      ],
      "execution_count": null,
      "outputs": []
    },
    {
      "cell_type": "code",
      "metadata": {
        "id": "lEpLVSjl-aS_"
      },
      "source": [
        "qs_"
      ],
      "execution_count": null,
      "outputs": []
    },
    {
      "cell_type": "code",
      "metadata": {
        "id": "nDFVGjU3ewAI"
      },
      "source": [
        "trackse = trackm.keys()\n",
        "tb = '/mnt/c/Users/andre/OneDrive/Music/Library/DB/Baltimora - Tarzan Boy.mp3'\n",
        "gjwhf = '/mnt/c/Users/andre/OneDrive/Music/Library/6zqADRDfaIwfcBJQgTnLKo/Cyndi Lauper - Girls Just Want to Have Fun.mp3'\n",
        "bty = '/mnt/c/Users/andre/OneDrive/Music/Library/DB/Boytronic - You.mp3'\n",
        "#trackse = [bty]\n",
        "#trackse = [tb, gjwhf]\n",
        "#trackse = [str(qt)]\n",
        "valuese = [trackm[k] for k in trackse]\n",
        "trackme = np.concatenate(valuese)\n",
        "\n",
        "scoresfm = ultraWideQSpleeterPitchMatch(trackse, trackme, trackf[str(qt)][48:112], divisionsPerBeat=1) #qmix=0.63  trackf[tb][64:128] / trackm[str(qt)][80:144]"
      ],
      "execution_count": null,
      "outputs": []
    },
    {
      "cell_type": "code",
      "metadata": {
        "id": "7vGd-SNqI7SK"
      },
      "source": [
        "#trackcat[gjwhf]"
      ],
      "execution_count": null,
      "outputs": []
    },
    {
      "cell_type": "code",
      "metadata": {
        "id": "_wMy6VpsgMVB"
      },
      "source": [
        "print(scoresfm[0])"
      ],
      "execution_count": null,
      "outputs": []
    },
    {
      "cell_type": "code",
      "metadata": {
        "id": "pQJ5DX3rGfz7"
      },
      "source": [
        "scoresfm.sort(key=lambda s: s[0], reverse=True)"
      ],
      "execution_count": null,
      "outputs": []
    },
    {
      "cell_type": "code",
      "metadata": {
        "id": "GtgBnaBMGUyN"
      },
      "source": [
        "print(scoresfm[0])\n",
        "print(scoresfm[1])\n",
        "print(scoresfm[2])\n",
        "print(scoresfm[3])\n",
        "print(scoresfm[4])"
      ],
      "execution_count": null,
      "outputs": []
    },
    {
      "cell_type": "code",
      "metadata": {
        "id": "4waOahHaGG84"
      },
      "source": [
        "6 in [1, 2, 3]"
      ],
      "execution_count": null,
      "outputs": []
    },
    {
      "cell_type": "code",
      "metadata": {
        "id": "mktY7NddLoUF"
      },
      "source": [
        "seen = dict()\n",
        "pos = 0"
      ],
      "execution_count": null,
      "outputs": []
    },
    {
      "cell_type": "code",
      "metadata": {
        "id": "dYGvwSjTLoUK"
      },
      "source": [
        "loop=loops[0]\n",
        "shown = 0\n",
        "\n",
        "\n",
        "while True:\n",
        " \n",
        "\n",
        "\n",
        "  s = scoresfm[pos]\n",
        "  pos += 1\n",
        "  print(s)\n",
        "\n",
        "  id = s[1]\n",
        "\n",
        "  if id in seen:\n",
        "    count = seen[id]\n",
        "    if count > 0:\n",
        "      continue\n",
        "    else:\n",
        "      count +=1\n",
        "      seen[id]=count\n",
        "  else:\n",
        "    seen[id]=1\n",
        "\n",
        "  # if s[2] in [4, 6, 8]:\n",
        "  #   print(lookup[id].attrib['Comments'])  \n",
        "  #   outputMix(loop, s, scorest[sind])\n",
        "  #   outputMix(loop, s, scorest[sind], _2nd=True)\n",
        "\n",
        "    #shown+=1\n",
        "    # if shown < 100:\n",
        "    #   continue\n",
        "\n",
        "\n",
        "  print(getComment(lookup(id)))  \n",
        "  print(trackcat[id])\n",
        "  # if s[1]=='/mnt/c/Users/andre/OneDrive/Music/Library/DB/Alphaville - Sounds Like a Melody (2019 Remaster).mp3':\n",
        "  #   continue\n",
        "    \n",
        "  mix = outputMixPitch(loop, s, 'Manual4', _pattternind=3, showmix=True)\n",
        "  #mixes.append(mix)\n",
        "  # outputMix(loop, s, '4', _pattternind=7)\n",
        "  # outputMix(loop, s, '2<8', _pattternind=11)\n",
        "  # outputMix(loop, s, '1<8', _pattternind=14)\n",
        "  shown+=1\n",
        "\n",
        "  if shown > 20:\n",
        "    # mixout = AudioSegment.empty()\n",
        "    # for mix in mixes:\n",
        "    #   mixout = mixout + mix\n",
        "    # IPython.display.display(mixout)\n",
        "    break\n",
        "    "
      ],
      "execution_count": null,
      "outputs": []
    },
    {
      "cell_type": "code",
      "metadata": {
        "id": "WOsyvVuFDmwx"
      },
      "source": [
        "\n",
        "#EX ULTRAWIDE Q, with 2 Measures match\n",
        "def ultraWideQ2MeasuresMatch2(trackse, trackme, qchroma_, qchroma1_, qmix=0.5, divisionsPerBeat=1):\n",
        "  dpb = divisionsPerBeat\n",
        "  scores = list()\n",
        "  qbeats = qchroma_.shape[0]//divisionsPerBeat\n",
        "  qmeasures = qbeats // 4\n",
        "\n",
        "  print('qbeats=', qbeats, '; qmeasures=', qmeasures)\n",
        "\n",
        "  NUMTRACKS=len(trackse)\n",
        "\n",
        "  for w in tqdm(range(0,NUMTRACKS,500)):  \n",
        "    for pitch in tqdm([9, 10, 11, 0, 1, 2, 3]):\n",
        "      wend = min(w+500, NUMTRACKS)\n",
        "      print(w,wend)\n",
        "      qr = np.roll(qchroma_, pitch, axis=1)\n",
        "      qr1 = np.roll(qchroma1_, pitch, axis=1)\n",
        "      s = np.matmul(trackme[w*BEATS*divisionsPerBeat:wend*BEATS*divisionsPerBeat,:], qr.T)\n",
        "      s1 = np.matmul(trackme[w*BEATS*divisionsPerBeat:wend*BEATS*divisionsPerBeat,:], qr1.T)\n",
        "      print(trackme.shape, qr.shape, s.shape)\n",
        "      tstart = 0\n",
        "      xavg = 0.\n",
        "      xcount=0\n",
        "      x1avg=0.\n",
        "      for ti, track in enumerate(list(trackse)[w:wend]):\n",
        "        #print('********************* New Track ************')\n",
        "        gscore = 0\n",
        "        patterns = list()\n",
        "        pattern8s = list()\n",
        "        for length in [16, 8]:\n",
        "          score = 0\n",
        "          pattern = list()\n",
        "          pattern8 = list()\n",
        "          for qm in range(0,qmeasures, length):\n",
        "            max         = -1.0\n",
        "            maxmeasure  = -1\n",
        "            max8        = -1.0\n",
        "            maxmeasure8 = -1\n",
        "            for tm in range(0,BEATS//4-length+1,4): #ACHTUNG: nicht lenght, sondern sliding TM\n",
        "              x = np.trace(s[tstart+m2i(tm, dpb):tstart+m2i(tm+length, dpb), m2i(qm, dpb):m2i(qm+length, dpb)])\n",
        "              x1 = np.trace(s1[tstart+m2i(tm, dpb):tstart+m2i(tm+length, dpb), m2i(qm, dpb):m2i(qm+length, dpb)])\n",
        "              xcount+=1\n",
        "              xavg += (x - xavg)/xcount\n",
        "              x1avg += (x1 - x1avg)/xcount\n",
        "              x = x*qmix+x1*(1-qmix)\n",
        "\n",
        "              # if tm==0:\n",
        "              #   print(ti, track, pitch, 'qm',qm, 'tm',tm, 'tstart', tstart, x)\n",
        "              #print(tm, qm, x, m2i(tm, dpb), m2i(qm, dpb))\n",
        "              # if qm==4:\n",
        "              #     print(f'qm={qm}, tm={tm}, score={x}')\n",
        "              if x > max:\n",
        "                max = x\n",
        "                maxmeasure = tm\n",
        "              if tm <= 16 and x > max8:\n",
        "                max8 = x\n",
        "                maxmeasure8 = tm\n",
        "            #print(maxbeat, x)\n",
        "            score += max\n",
        "            #print(max, maxmeasure)\n",
        "            # if maxmeasure % 2 != 0:\n",
        "            #   print(track)\n",
        "            for i in range(length):\n",
        "              pattern.append(maxmeasure+i)\n",
        "              pattern8.append(maxmeasure8+i)\n",
        "          gscore += score\n",
        "          patterns.append((score, pattern, pattern8))\n",
        "\n",
        "        if not np.isnan(gscore):\n",
        "          #print(xavg, x1avg)\n",
        "          #scores.append((gscore, track, pitch, patterns[0][0], patterns[0][1], patterns[0][2], patterns[1][0], patterns[1][1], patterns[1][2], patterns[2][0], patterns[2][1], patterns[2][2], patterns[3][0], patterns[3][1], patterns[3][2]))\n",
        "          scores.append((gscore, track, pitch, patterns[0][0], patterns[0][1], patterns[0][2], patterns[1][0], patterns[1][1], patterns[1][2], xavg/x1avg))\n",
        "                        #patterns[2][0], patterns[2][1], patterns[2][2], patterns[3][0], patterns[3][1], patterns[3][2]))\n",
        "        else:\n",
        "          print('isnan')\n",
        "        tstart+=BEATS*divisionsPerBeat\n",
        "  return scores"
      ],
      "execution_count": null,
      "outputs": []
    },
    {
      "cell_type": "markdown",
      "metadata": {
        "id": "aPyqA17W2Izn"
      },
      "source": [
        "###ultraWideQ2MeasuresPatternMatch"
      ]
    },
    {
      "cell_type": "code",
      "metadata": {
        "id": "2R48750X2Km0"
      },
      "source": [
        "def pattern2ind(pattern):\n",
        "  print(pattern)\n",
        "  pattern2ind = dict()\n",
        "  entries = list(set(pattern))\n",
        "  for e in entries:\n",
        "    indices = [i for i, x in enumerate(pattern) if x == e]\n",
        "    pattern2ind[e]=indices\n",
        "  return pattern2ind"
      ],
      "execution_count": null,
      "outputs": []
    },
    {
      "cell_type": "code",
      "metadata": {
        "id": "yjp3qfDrAyp4"
      },
      "source": [
        ""
      ],
      "execution_count": null,
      "outputs": []
    },
    {
      "cell_type": "code",
      "metadata": {
        "id": "dumuyDuT3g6O"
      },
      "source": [
        "pattern2ind(['A', 'A', 'B', 'B', 'A', 'B', 'C'])"
      ],
      "execution_count": null,
      "outputs": []
    },
    {
      "cell_type": "code",
      "metadata": {
        "id": "RXCPC6CEwHh-"
      },
      "source": [
        "#EX ULTRAWIDE Q, with 2 Measures match\n",
        "def ultraWideQ2MeasuresPatternMatch(trackse, trackme, qchroma_, pattern, divisionsPerBeat=1):\n",
        "  patternind = pattern2ind(pattern)\n",
        "  dpb = divisionsPerBeat\n",
        "  scores = list()\n",
        "  qbeats = qchroma_.shape[0]//divisionsPerBeat\n",
        "  qmeasures = qbeats // 4\n",
        "  print('qbeats=', qbeats, '; qmeasures=', qmeasures, '; pattern=', len(pattern)*4, '; OK=', qmeasures==len(pattern)*4)\n",
        "  if qmeasures!=len(pattern)*4:\n",
        "    return\n",
        "\n",
        "  NUMTRACKS=len(trackse)\n",
        "\n",
        "\n",
        "\n",
        "\n",
        "  for w in tqdm(range(0,NUMTRACKS,500)):\n",
        "\n",
        "    for pitch in tqdm(9, 10, 11, 0, 1, 2, 3):\n",
        "      wend = min(w+500, NUMTRACKS)\n",
        "      qr = np.roll(qchroma_, pitch, axis=1)\n",
        "      print(w,wend)\n",
        "      s = np.matmul(trackme[w*96*divisionsPerBeat:wend*96*divisionsPerBeat,:], qr.T)\n",
        "      print(trackme.shape, qr.shape, s.shape)\n",
        "      tstart = 0\n",
        "      for track in list(trackse)[w:wend]:\n",
        "        # gscore = 0\n",
        "        # xpatterns = list()\n",
        "        # xpattern8s = list()\n",
        "        length = 4\n",
        "        score = 0\n",
        "        # xpattern = list()\n",
        "        # xpattern8 = list()\n",
        "        symbolmeasure =  dict()\n",
        "        for patternsymbol in patternind.keys():\n",
        "            patternindices = patternind[patternsymbol]\n",
        "            maxtmscore = -1.0\n",
        "            maxtm      = -1\n",
        "            for tm in range(0, 24-length+1, length):\n",
        "              tmscore = 0\n",
        "              for pi in patternindices:\n",
        "                #Pro pattern index = 4 Bars\n",
        "                qm = pi*4\n",
        "                x = np.trace(s[tstart+m2i(tm, dpb):tstart+m2i(tm+length, dpb), m2i(qm, dpb):m2i(qm+length, dpb)])\n",
        "                tmscore += x\n",
        "                # if qm==4:\n",
        "                #   print(f'qm={qm}, tm={tm}, score={tmscore}')\n",
        "              if tmscore > maxtmscore:\n",
        "                maxtmscore = tmscore\n",
        "                maxtm = tm\n",
        "            score += maxtmscore\n",
        "            symbolmeasure[patternsymbol]=maxtm\n",
        "            \n",
        "        if not np.isnan(score):\n",
        "          scores.append((score, track, pitch, ind2pattern(symbolmeasure, pattern, length), symbolmeasure))\n",
        "        else:\n",
        "          print('isnan')\n",
        "        tstart+=96*divisionsPerBeat\n",
        "  return scores"
      ],
      "execution_count": null,
      "outputs": []
    },
    {
      "cell_type": "markdown",
      "metadata": {
        "id": "OKvtpjT0tPuc"
      },
      "source": [
        "TESTING Infrastructure"
      ]
    },
    {
      "cell_type": "code",
      "metadata": {
        "id": "cghXZnC1wfmB"
      },
      "source": [
        "# trackse = ['/mnt/c/Users/andre/OneDrive/Music/Library/DB/Pet Shop Boys - Always on My Mind.mp3']\n",
        "# valuese = [trackf[k] for k in trackse]\n",
        "# trackme = np.concatenate(valuese)\n",
        "\n",
        "# print('MATCH')\n",
        "# scoresfm1 = ultraWideQ2MeasuresMatch(trackse, trackme, qchromas[0][0],  divisionsPerBeat=1)\n",
        "# print('PATTERN')\n",
        "# scoresfm2 = ultraWideQ2MeasuresPatternMatch(trackse, trackme, qchromas[0][0], pattern=['A', 'B', 'C', 'D', 'E', 'F', 'G', 'H'],  divisionsPerBeat=1)\n",
        "\n"
      ],
      "execution_count": null,
      "outputs": []
    },
    {
      "cell_type": "code",
      "metadata": {
        "id": "yARUzaaP85uA"
      },
      "source": [
        "# trackse = trackf.keys()\n",
        "# valuese = [trackf[k] for k in trackse]\n",
        "# trackme = np.concatenate(valuese)\n",
        "\n",
        "# #scoresfm = ultraWideQ2MeasuresMatch(list(trackse)[0:3], trackme[0:3*96*4*4], qchromas[0][0], divisionsPerBeat=4)\n",
        "# scoresfm = ultraWideQ2MeasuresPatternMatch(trackse, trackme, qchromas[0][0], pattern=['A', 'A', 'B', 'B', 'C', 'D', 'C', 'D'],  divisionsPerBeat=1)"
      ],
      "execution_count": null,
      "outputs": []
    },
    {
      "cell_type": "code",
      "metadata": {
        "id": "d_gGHuw2om8d"
      },
      "source": [
        "# trackse = trackf.keys()\n",
        "# valuese = [trackf[k] for k in trackse]\n",
        "# trackme = np.concatenate(valuese)\n",
        "\n",
        "# #scoresfm = ultraWideQ2MeasuresMatch(list(trackse)[0:3], trackme[0:3*96*4*4], qchromas[0][0], divisionsPerBeat=4)\n",
        "# scoresfm = ultraWideQ2MeasuresMatch(trackse, trackme, qchromas[0][0], divisionsPerBeat=1)\n"
      ],
      "execution_count": null,
      "outputs": []
    },
    {
      "cell_type": "code",
      "metadata": {
        "id": "-9Kfgil52Ddi"
      },
      "source": [
        "# scoresfm.sort(key=lambda s: s[0], reverse=True)"
      ],
      "execution_count": null,
      "outputs": []
    },
    {
      "cell_type": "code",
      "metadata": {
        "id": "RBYVA8Gs4gep"
      },
      "source": [
        "# print(scoresfm[0])"
      ],
      "execution_count": null,
      "outputs": []
    },
    {
      "cell_type": "code",
      "metadata": {
        "id": "Tel4r8Pt2Ddj"
      },
      "source": [
        "# #verbessern: zuest anzeige, dann musik\n",
        "# loop = loops[0]\n",
        "# for s in scoresfm[220:230]:\n",
        "#   if s[2] in [4,6,8] or True:\n",
        "#     print(s)\n",
        "#     outputMix(loop, s, '8', _pattternind=3)\n",
        "#     # outputMix(loop, s, '4', _pattternind=7)\n",
        "#     # outputMix(loop, s, '2', _pattternind=10)\n",
        "#     # outputMix(loop, s, '1', _pattternind=13)\n"
      ],
      "execution_count": null,
      "outputs": []
    },
    {
      "cell_type": "code",
      "metadata": {
        "id": "wVp1JDuVTl26"
      },
      "source": [
        "def getScores2m(qchroma, divisionperbeat=1, track=None):\n",
        "\n",
        "  print('Beats=', qchroma[0].shape)\n",
        "\n",
        "  if track is None:\n",
        "    trackse = trackf.keys()\n",
        "  else:\n",
        "    trackse = [str(track)]\n",
        "  valuese = [trackf[k] for k in trackse]\n",
        "  trackme = np.concatenate(valuese)\n",
        "\n",
        "  scoresfm = ultraWideQ2MeasuresMatch(trackse, trackme, qchroma[0], divisionsPerBeat=divisionperbeat)\n",
        "  scoresff = ultraWideQ2MeasuresMatch(trackse, trackme, qchroma[1], divisionsPerBeat=divisionperbeat)\n",
        "  #scoresfk = ultraWideQ2MeasuresMatch(trackse, trackme, qchroma[2], divisionsPerBeat=divisionperbeat)\n",
        "\n",
        "\n",
        "\n",
        "  if track is None:\n",
        "    trackse = trackm.keys()\n",
        "  else:\n",
        "    trackse = [str(track)]\n",
        "  valuese = [trackm[k] for k in trackse]\n",
        "  trackme = np.concatenate(valuese)\n",
        "\n",
        "  scoresmm = ultraWideQ2MeasuresMatch(trackse, trackme, qchroma[0], divisionsPerBeat=divisionperbeat)\n",
        "  scoresmf = ultraWideQ2MeasuresMatch(trackse, trackme, qchroma[1], divisionsPerBeat=divisionperbeat)\n",
        "  # scoresmk = ultraWideQ2MeasuresMatch(trackse, trackme, qchroma[2], divisionsPerBeat=divisionperbeat)\n",
        "\n",
        "  # if track is None:\n",
        "  #   trackse = trackp.keys()\n",
        "  # else:\n",
        "  #   trackse = [str(track)]\n",
        "  # valuese = [trackp[k] for k in trackse]\n",
        "  # trackme = np.concatenate(valuese)\n",
        "\n",
        "  # scoreskm = ultraWideQ2MeasuresMatch(trackse, trackme, qchroma[0], divisionsPerBeat=divisionperbeat)\n",
        "  # scoreskf = ultraWideQ2MeasuresMatch(trackse, trackme, qchroma[1], divisionsPerBeat=divisionperbeat)\n",
        "  # scoreskk = ultraWideQ2MeasuresMatch(trackse, trackme, qchroma[2], divisionsPerBeat=divisionperbeat)\n",
        " \n",
        "  \n",
        "  scoresfm.sort(key=lambda s: s[0], reverse=True)\n",
        "  scoresff.sort(key=lambda s: s[0], reverse=True)\n",
        "  # scoresfk.sort(key=lambda s: s[0], reverse=True)\n",
        "  scoresmm.sort(key=lambda s: s[0], reverse=True)\n",
        "  scoresmf.sort(key=lambda s: s[0], reverse=True)\n",
        "  # scoresmk.sort(key=lambda s: s[0], reverse=True)\n",
        "  # scoreskm.sort(key=lambda s: s[0], reverse=True)\n",
        "  # scoreskf.sort(key=lambda s: s[0], reverse=True)\n",
        "  # scoreskk.sort(key=lambda s: s[0], reverse=True)\n",
        "\n",
        "  scoresl = [None] * 4\n",
        "  scoresl[0] = scoresmm\n",
        "  scoresl[1] = scoresff\n",
        "  #scoresl[2] = list() #scoreskk\n",
        "\n",
        "  scoresl[2] = scoresmf\n",
        "  #scoresl[4] = list() #scoresmk\n",
        "\n",
        "  scoresl[3] = scoresfm\n",
        "  #scoresl[6] = list() #scoresfk\n",
        "\n",
        "  #scoresl[7] = list() #scoreskm\n",
        "  #scoresl[8] = list() #scoreskf\n",
        "\n",
        "  #scorest = ['smm', 'sff', 'skk', 'smf', 'smk', 'sfm', 'sfk', 'skm', 'skf']\n",
        "  scorest = ['smm', 'sff', 'smf', 'sfm']\n",
        "\n",
        "\n",
        "  return scoresl, scorest\n"
      ],
      "execution_count": null,
      "outputs": []
    },
    {
      "cell_type": "code",
      "metadata": {
        "id": "ov0wr4-zHtpT"
      },
      "source": [
        "def getScores2mPattern(qchroma, pattern, divisionperbeat=1, track=None):\n",
        "\n",
        "  print('Beats=', qchroma[0].shape)\n",
        "\n",
        "  if track is None:\n",
        "    trackse = trackf.keys()\n",
        "  else:\n",
        "    trackse = [str(track)]\n",
        "  valuese = [trackf[k] for k in trackse]\n",
        "  trackme = np.concatenate(valuese)\n",
        "\n",
        "  scoresfm = ultraWideQ2MeasuresPatternMatch(trackse, trackme, qchroma[0], pattern, divisionsPerBeat=divisionperbeat)\n",
        "  scoresff = ultraWideQ2MeasuresPatternMatch(trackse, trackme, qchroma[1], pattern, divisionsPerBeat=divisionperbeat)\n",
        "  scoresfk = ultraWideQ2MeasuresPatternMatch(trackse, trackme, qchroma[2], pattern, divisionsPerBeat=divisionperbeat)\n",
        "\n",
        "\n",
        "  if track is None:\n",
        "    trackse = trackm.keys()\n",
        "  else:\n",
        "    trackse = [str(track)]\n",
        "  valuese = [trackm[k] for k in trackse]\n",
        "  trackme = np.concatenate(valuese)\n",
        "\n",
        "  scoresmm = ultraWideQ2MeasuresPatternMatch(trackse, trackme, qchroma[0], pattern, divisionsPerBeat=divisionperbeat)\n",
        "  scoresmf = ultraWideQ2MeasuresPatternMatch(trackse, trackme, qchroma[1], pattern, divisionsPerBeat=divisionperbeat)\n",
        "  scoresmk = ultraWideQ2MeasuresPatternMatch(trackse, trackme, qchroma[2], pattern, divisionsPerBeat=divisionperbeat)\n",
        "\n",
        "\n",
        "  if track is None:\n",
        "    trackse = trackp.keys()\n",
        "  else:\n",
        "    trackse = [str(track)]\n",
        "  valuese = [trackp[k] for k in trackse]\n",
        "  trackme = np.concatenate(valuese)\n",
        "\n",
        "  scoreskm = ultraWideQ2MeasuresPatternMatch(trackse, trackme, qchroma[0], pattern, divisionsPerBeat=divisionperbeat)\n",
        "  scoreskf = ultraWideQ2MeasuresPatternMatch(trackse, trackme, qchroma[1], pattern, divisionsPerBeat=divisionperbeat)\n",
        "  scoreskk = ultraWideQ2MeasuresPatternMatch(trackse, trackme, qchroma[2], pattern, divisionsPerBeat=divisionperbeat)\n",
        " \n",
        "  \n",
        "  scoresfm.sort(key=lambda s: s[0], reverse=True)\n",
        "  scoresff.sort(key=lambda s: s[0], reverse=True)\n",
        "  scoresfk.sort(key=lambda s: s[0], reverse=True)\n",
        "  scoresmm.sort(key=lambda s: s[0], reverse=True)\n",
        "  scoresmf.sort(key=lambda s: s[0], reverse=True)\n",
        "  scoresmk.sort(key=lambda s: s[0], reverse=True)\n",
        "  scoreskm.sort(key=lambda s: s[0], reverse=True)\n",
        "  scoreskf.sort(key=lambda s: s[0], reverse=True)\n",
        "  scoreskk.sort(key=lambda s: s[0], reverse=True)\n",
        "\n",
        "  scoresl = [None] * 9\n",
        "  scoresl[0] = scoresmm\n",
        "  scoresl[1] = scoresff\n",
        "  scoresl[2] = scoreskk\n",
        "\n",
        "  scoresl[3] = scoresmf\n",
        "  scoresl[4] = scoresmk\n",
        "\n",
        "  scoresl[5] = scoresfm\n",
        "  scoresl[6] = scoresfk\n",
        "\n",
        "  scoresl[7] = scoreskm\n",
        "  scoresl[8] = scoreskf\n",
        "\n",
        "  scorest = ['smm', 'sff', 'skk', 'smf', 'smk', 'sfm', 'sfk', 'skm', 'skf']\n",
        "\n",
        "\n",
        "  return scoresl, scorest\n"
      ],
      "execution_count": null,
      "outputs": []
    },
    {
      "cell_type": "markdown",
      "metadata": {
        "id": "GWoqSrAmjSKo"
      },
      "source": [
        "##Minichroma"
      ]
    },
    {
      "cell_type": "code",
      "metadata": {
        "id": "nBUzxoH3B2PU"
      },
      "source": [
        "#minichromas = (qchromas[0][0][0:4*16], qchromas[0][1][0:4*16], qchromas[0][2][0:4*16])"
      ],
      "execution_count": null,
      "outputs": []
    },
    {
      "cell_type": "code",
      "metadata": {
        "id": "cryD6UQUCGGm"
      },
      "source": [
        "#scoresl, scorest = getScores(minichromas, divisionperbeat=4) #chroma below"
      ],
      "execution_count": null,
      "outputs": []
    },
    {
      "cell_type": "code",
      "metadata": {
        "id": "DIne_QCYAVkg"
      },
      "source": [
        "#scoresl, scorest = getScoresPattern(qchromas[0],  divisionperbeat=4)"
      ],
      "execution_count": null,
      "outputs": []
    },
    {
      "cell_type": "code",
      "metadata": {
        "id": "6pTqWSfnUoo9"
      },
      "source": [
        "scoresl, scorest = getScores2m(qchromas[0],  divisionperbeat=1)"
      ],
      "execution_count": null,
      "outputs": []
    },
    {
      "cell_type": "code",
      "metadata": {
        "id": "ONnTfp2oHc7e"
      },
      "source": [
        "scoresl, scorest = getScores2mPattern(qchromas[0],  pattern=['A', 'A', 'A', 'A', 'B', 'C'], divisionperbeat=1)"
      ],
      "execution_count": null,
      "outputs": []
    },
    {
      "cell_type": "code",
      "metadata": {
        "id": "i1gcnT4MAxA1"
      },
      "source": [
        "seen = dict()\n",
        "pos = 0"
      ],
      "execution_count": null,
      "outputs": []
    },
    {
      "cell_type": "code",
      "metadata": {
        "id": "l332Yo2VPBIn"
      },
      "source": [
        "loop=loops[0]\n",
        "shown = 0\n",
        "\n",
        "mixes = list()\n",
        "\n",
        "while True:\n",
        "  sind = pos % 4\n",
        "  spos = pos // 4\n",
        "  print(sind, spos)\n",
        "\n",
        "\n",
        "  #s = scoresl[0][pos]\n",
        "  pos += 1\n",
        "\n",
        "\n",
        "  s = scoresl[sind][spos]\n",
        "  print(scorest[sind], s)\n",
        "\n",
        "  id = s[1]\n",
        "\n",
        "  if id in seen:\n",
        "    count = seen[id]\n",
        "    if count > 0:\n",
        "      continue\n",
        "    else:\n",
        "      count +=1\n",
        "      seen[id]=count\n",
        "  else:\n",
        "    seen[id]=1\n",
        "\n",
        "  # if s[2] in [4, 6, 8]:\n",
        "  #   print(lookup[id].attrib['Comments'])  \n",
        "  #   outputMix(loop, s, scorest[sind])\n",
        "  #   outputMix(loop, s, scorest[sind], _2nd=True)\n",
        "\n",
        "    #shown+=1\n",
        "    # if shown < 100:\n",
        "    #   continue\n",
        "\n",
        "\n",
        "  print(getComment(lookup(id)))  \n",
        "  # if s[1]=='/mnt/c/Users/andre/OneDrive/Music/Library/DB/Alphaville - Sounds Like a Melody (2019 Remaster).mp3':\n",
        "  #   continue\n",
        "    \n",
        "  mix = outputMix(loop, s, '8', _pattternind=4, showmix=True)\n",
        "  #mixes.append(mix)\n",
        "  # outputMix(loop, s, '4', _pattternind=7)\n",
        "  # outputMix(loop, s, '2<8', _pattternind=11)\n",
        "  # outputMix(loop, s, '1<8', _pattternind=14)\n",
        "  shown+=1\n",
        "\n",
        "  if shown > 20:\n",
        "    # mixout = AudioSegment.empty()\n",
        "    # for mix in mixes:\n",
        "    #   mixout = mixout + mix\n",
        "    # IPython.display.display(mixout)\n",
        "    break\n",
        "    "
      ],
      "execution_count": null,
      "outputs": []
    },
    {
      "cell_type": "code",
      "metadata": {
        "id": "yrjdoKgoDqCQ"
      },
      "source": [
        "exportBeatgridVDJ(qt)"
      ],
      "execution_count": null,
      "outputs": []
    },
    {
      "cell_type": "code",
      "metadata": {
        "id": "x5u97U7_LJ6M"
      },
      "source": [
        "exportCueBeats(qt, [qstart, qend])"
      ],
      "execution_count": null,
      "outputs": []
    },
    {
      "cell_type": "code",
      "metadata": {
        "id": "FdJaOAWWDblZ"
      },
      "source": [
        "oscore = (48.38206993613574, '/mnt/c/Users/andre/OneDrive/Music/Library/DB/Peter Gabriel - Sledgehammer.mp3', 6, [12, 13, 14, 15, 12, 13, 14, 15, 12, 13, 14, 15, 12, 13, 14, 15, 8, 9, 10, 11, 4, 5, 6, 7], {'C': 4, 'A': 12, 'B': 8})\n",
        "ot = oscore[1]\n",
        "exportBeatgridVDJ(ot)"
      ],
      "execution_count": null,
      "outputs": []
    },
    {
      "cell_type": "code",
      "metadata": {
        "id": "DqfcMGruLmFP"
      },
      "source": [
        "exportCueMeasures(ot, [4,8,12])"
      ],
      "execution_count": null,
      "outputs": []
    },
    {
      "cell_type": "code",
      "metadata": {
        "id": "g3U5dqJWJkT1"
      },
      "source": [
        "rmme = [\n",
        "'/mnt/c/Users/andre/OneDrive/Music/Library/DB/Max Werner - Rain In May.beats',\n",
        "'/mnt/c/Users/andre/OneDrive/Music/Library/5fevftlD8al7MLhmBE9bQfX/The Cars - Drive.beats'\n",
        "]\n",
        "\n",
        "for f in rmme:\n",
        "  print(f'rm {f}')\n",
        "  print(f'rm {f.replace(\".beats\", \".mp3-pair.m4116data\")}')"
      ],
      "execution_count": null,
      "outputs": []
    },
    {
      "cell_type": "code",
      "metadata": {
        "id": "czfVayTwgET_"
      },
      "source": [
        "def getAlternatePatterns(t, l):\n",
        "  scoresl, scorest = getScores2m(qchromas[0], divisionperbeat=1, track=l[1])\n",
        "  for i, z in enumerate(scorest):\n",
        "    if z==t:\n",
        "      s = scoresl[i][0]\n",
        "      print(l[3])\n",
        "      print(s[4])\n",
        "      outputMix(loop, s, '8', _pattternind=4, showmix=True)\n",
        "      print(s[7])\n",
        "      outputMix(loop, s, '8', _pattternind=7, showmix=True)"
      ],
      "execution_count": null,
      "outputs": []
    },
    {
      "cell_type": "code",
      "metadata": {
        "id": "9ODaM7ArlI3i"
      },
      "source": [
        "t, l = 'sff', (109.00055980682373, \"/mnt/c/Users/andre/OneDrive/Music/Library/DB/Bronski Beat - Why _ (12'' Version; 2008 Remastered Version).mp3\", 7, [3, 4, 5, 6, 3, 4, 5, 6, 3, 4, 5, 6, 3, 4, 5, 6, 1, 2, 3, 4, 3, 4, 5, 6, 1, 2, 3, 4, 3, 4, 5, 6], {'A': 3, 'B': 3, 'D': 3, 'C': 1})\n",
        "getAlternatePatterns(t, l)\n"
      ],
      "execution_count": null,
      "outputs": []
    },
    {
      "cell_type": "code",
      "metadata": {
        "id": "0ctaaxUN8yPJ"
      },
      "source": [
        "def getAlternatePatternPatterns(t, l):\n",
        "  scoresl, scorest = getScores2mPattern(qchromas[0],  pattern=['A', 'A', 'A', 'A', 'B', 'C'], divisionperbeat=1, track=l[1])\n",
        "  for i, z in enumerate(scorest):\n",
        "    if z==t or True:\n",
        "      s = scoresl[i][0]\n",
        "      print(z, s[3])\n",
        "      outputMix(loop, s, '4P', _pattternind=3, showmix=True)"
      ],
      "execution_count": null,
      "outputs": []
    },
    {
      "cell_type": "code",
      "metadata": {
        "id": "kKzfw1UyiZ52"
      },
      "source": [
        "t, l = 'sfm', (48.38206993613574, '/mnt/c/Users/andre/OneDrive/Music/Library/DB/Peter Gabriel - Sledgehammer.mp3', 6, [12, 13, 14, 15, 12, 13, 14, 15, 12, 13, 14, 15, 12, 13, 14, 15, 8, 9, 10, 11, 4, 5, 6, 7], {'C': 4, 'A': 12, 'B': 8})\n",
        "getAlternatePatternPatterns(t, l)\n",
        "\n",
        "\n"
      ],
      "execution_count": null,
      "outputs": []
    },
    {
      "cell_type": "markdown",
      "metadata": {
        "id": "Jhynl4IbTCxJ"
      },
      "source": [
        "##Real MANUAL MODE"
      ]
    },
    {
      "cell_type": "code",
      "metadata": {
        "id": "zvOdk10TzMVh"
      },
      "source": [
        "loop = loops[0]"
      ],
      "execution_count": null,
      "outputs": []
    },
    {
      "cell_type": "code",
      "metadata": {
        "id": "_BkcRMBx5sBa"
      },
      "source": [
        "#Manual\n",
        "\n",
        "#outputMix(loop, smanual, '*manual*', loopdb=-12, ovldb=-9, filename='karma-faith-01.wav', 4)#, hps=1000)\n",
        "\n",
        "\n",
        "smanual = (146.08952842862615, '/mnt/c/Users/andre/OneDrive/Music/Library/DB/Fancy - Chinese Eyes (12_ Version).mp3', 0, 35.176534711062395, [12, 13, 14, 15, 16, 17, 18, 19, 4, 5, 6, 7, 8, 9, 10, 11], [4, 5, 6, 7, 8, 9, 10, 11, 4, 5, 6, 7, 8, 9, 10, 11], 35.22484599441405, [4, 5, 6, 7, 9, 10, 11, 12, 8, 9, 10, 11, 8, 9, 10, 11], [4, 5, 6, 7, 4, 5, 6, 7, 4, 5, 6, 7, 4, 5, 6, 7], 37.522901427996985, [8, 9, 14, 15, 13, 14, 9, 10, 8, 9, 5, 6, 8, 9, 9, 10], [4, 5, 6, 7, 0, 1, 5, 6, 4, 5, 5, 6, 4, 5, 5, 6], 38.16524629515273, [4, 9, 11, 14, 13, 1, 9, 14, 9, 9, 5, 14, 9, 9, 5, 10], [4, 5, 1, 6, 4, 1, 4, 0, 4, 5, 5, 6, 4, 5, 5, 6])\n",
        "\n",
        "smanual =(44.40090377751787, '/mnt/c/Users/andre/OneDrive/Music/Library/DB/The Twins - Ballet Dancer.mp3', 2, 22.200451888758934, [32, 33, 34, 35, 32, 33, 34, 35], [8, 9, 10, 11, 12, 13, 14, 15], 22.200451888758934, [32, 33, 34, 35, 32, 33, 34, 35], [16, 17, 18, 19, 0, 1, 2, 3], 0.6709413086989743)\n",
        "\n",
        "\n",
        "smanual = (75.41366288169134, '/mnt/c/Users/andre/OneDrive/Music/Library/0KVU9o7yhQHIcXtCdYmM4IX/Die Ärzte - Westerland.mp3', 9, 37.10934652306713, [12, 13, 14, 15, 16, 17, 18, 19, 20, 21, 22, 23, 24, 25, 26, 27], [12, 13, 14, 15, 16, 17, 18, 19, 20, 21, 22, 23, 24, 25, 26, 27], 38.304316358624206, [20, 21, 22, 23, 24, 25, 26, 27, 20, 21, 22, 23, 24, 25, 26, 27], [8, 9, 10, 11, 12, 13, 14, 15, 8, 9, 10, 11, 12, 13, 14, 15], 0.5950788286839958)\n",
        "\n",
        "\n",
        "smanual = (35.6648821932376, '/mnt/c/Users/andre/OneDrive/Music/Library/2hDNJUa6EqJLfWmChadlvRX/The J. Geils Band - Centerfold.mp3', -3, [4, 5, 6, 7, 4, 5, 6, 7, 4, 5, 6, 7, 4, 5, 6, 7])\n",
        "none = outputMix(loop, smanual, '*manual*', loopdb=-12, ovldb=-15, _pattternind=3) #7\n"
      ],
      "execution_count": null,
      "outputs": []
    },
    {
      "cell_type": "markdown",
      "metadata": {
        "id": "z2xCZojUcVAK"
      },
      "source": [
        "##Studio - Chop & Export"
      ]
    },
    {
      "cell_type": "code",
      "metadata": {
        "id": "6Um3BjQNgObt"
      },
      "source": [
        "def plotTransition(audio):\n",
        "  plt.figure(figsize=(20,10))  #plt.subplots(len(channels), sharex=True, figsize=(50,100))\n",
        "  #fig=plt.figure(figsize=(12,8), dpi= 100, facecolor='w', edgecolor='k')\n",
        "\n",
        "\n",
        "  channel_sounds = audio.split_to_mono()\n",
        "  samples = [s.get_array_of_samples() for s in channel_sounds]\n",
        "\n",
        "  fp_arr = np.array(samples).T.astype(np.float32)\n",
        "  fp_arr /= np.iinfo(samples[0].typecode).max\n",
        "\n",
        "  print(fp_arr.shape)\n",
        "  plt.plot(fp_arr)\n",
        "  plt.axvline(x=fp_arr.shape[0]/2)\n",
        "  plt.show()"
      ],
      "execution_count": null,
      "outputs": []
    },
    {
      "cell_type": "code",
      "metadata": {
        "id": "HnmgJZrbcdJV"
      },
      "source": [
        "def chopAndExport(trackid, pattern):\n",
        "\n",
        "  track = lookup[trackid]\n",
        "\n",
        "  bg = BeatGrid(track)\n",
        "  firstbeat = bg.get111ind()\n",
        "  \n",
        "  audio = AudioSegment.from_file(MIXX / getFilename(track), format=\"mp3\")\n",
        "  \n",
        "  for i, (code, m) in enumerate(pattern.items()):\n",
        "    print(i, code, m)\n",
        "\n",
        "    start         = bg.getBeat_p(firstbeat+m*4)\n",
        "    end           = bg.getBeat_p(firstbeat+m*4+16)\n",
        "    bpm           = computeBPM_s(start, end, beats=16)\n",
        "    traktorend    = bg.getBeat_p(firstbeat+m*4+16+4)\n",
        "\n",
        "\n",
        "    start_ms = int(start*1000)-5\n",
        "    end_ms   = int(end*1000)-5\n",
        "    \n",
        "    audio[start_ms:end_ms].export(f'{trackid}-m{m:02}-{code}-{bpm:.3f}.wav', format='wav')\n",
        "    plotTransition(audio[end_ms-100:end_ms+100])"
      ],
      "execution_count": null,
      "outputs": []
    },
    {
      "cell_type": "code",
      "metadata": {
        "id": "ra9HVMDuW4oG"
      },
      "source": [
        "ID = 'C:/:Users/:andre/:OneDrive/:Music/:Library/:DB/:ABBA - Super Trouper.mp3'"
      ],
      "execution_count": null,
      "outputs": []
    },
    {
      "cell_type": "code",
      "metadata": {
        "id": "aErnudvMW825"
      },
      "source": [
        "tt = lookup(ID)"
      ],
      "execution_count": null,
      "outputs": []
    },
    {
      "cell_type": "code",
      "metadata": {
        "id": "yEZnFiRWXF3p"
      },
      "source": [
        "taudio = AudioSegment.from_file(getWSLFilename(tt), format=\"mp3\")\n",
        "tmis = AudioSegment.from_file('karma-trooper-01.wav', format=\"wav\")"
      ],
      "execution_count": null,
      "outputs": []
    },
    {
      "cell_type": "code",
      "metadata": {
        "id": "8AXlMvqtXhSw"
      },
      "source": [
        "tbg =   BeatGrid(tt)"
      ],
      "execution_count": null,
      "outputs": []
    },
    {
      "cell_type": "code",
      "metadata": {
        "id": "PxssKUy3XXmf"
      },
      "source": [
        "start  = tbg.getBeat_p(tbg.get111ind()+8*4)\n",
        "end  = tbg.getBeat_p(tbg.get111ind()+8*4+32)"
      ],
      "execution_count": null,
      "outputs": []
    },
    {
      "cell_type": "code",
      "metadata": {
        "id": "GcmJvzEyXzzh"
      },
      "source": [
        "(tmis+(taudio[int(start*1000):int(end*1000)]-15)).export('karma-trooper-long.wav', format=\"wav\")"
      ],
      "execution_count": null,
      "outputs": []
    },
    {
      "cell_type": "code",
      "metadata": {
        "id": "UwP0sWfT6P57"
      },
      "source": [
        "lookup[s_ovl[1]].attrib"
      ],
      "execution_count": null,
      "outputs": []
    },
    {
      "cell_type": "code",
      "metadata": {
        "id": "NQ3H7V06pX_B"
      },
      "source": [
        "loops[0][0].export(f'{TrackID}-q-{loops[0][1]:.3f}.wav', format='wav')"
      ],
      "execution_count": null,
      "outputs": []
    },
    {
      "cell_type": "code",
      "metadata": {
        "id": "iDWnC-Qya-lO"
      },
      "source": [
        "s_ovl[5]"
      ],
      "execution_count": null,
      "outputs": []
    },
    {
      "cell_type": "code",
      "metadata": {
        "id": "iYQIK5QZ9R9L"
      },
      "source": [
        "outputMix(loops[0], s_ovl, \"save\", loopdb=-15, ovldb=-12, filename='mixout.wav', hps=None, _2nd=False)"
      ],
      "execution_count": null,
      "outputs": []
    },
    {
      "cell_type": "code",
      "metadata": {
        "id": "tCupa9jseZ9S"
      },
      "source": [
        "#sfm (99.7968116132125, '6918', 7, [5, 6, 7, 8, 5, 6, 7, 8, 5, 6, 7, 8, 5, 6, 7, 8, 0, 1, 2, 3, 0, 1, 2, 3, 0, 1, 2, 3, 0, 1, 2, 3, 5, 6, 7, 8, 5, 6, 7, 8, 5, 6, 7, 8, 5, 6, 7, 8], [1, 2, 3, 4, 1, 2, 3, 4, 1, 2, 3, 4, 1, 2, 3, 4, 0, 1, 2, 3, 0, 1, 2, 3, 0, 1, 2, 3, 0, 1, 2, 3, 1, 2, 3, 4, 1, 2, 3, 4, 1, 2, 3, 4, 1, 2, 3, 4], {'C': 5, 'V1': 0, 'V2': 0}, {'C': 1, 'V1': 0, 'V2': 0})\n",
        "\n",
        "#chopAndExport('6918',  {'C': 5, 'V1': 0, 'V2': 0})\n",
        "print(f'Pitch={s_ovl[2]}')\n",
        "#chopAndExport(s_ovl[1],  s_ovl[5])\n",
        "\n",
        "manualp = {'0': 0, '2': 2, '4': 4, '6': 6, '8': 8, '10': 10, '12': 12, '14': 14, '16': 16, '18': 18, '20': 20, '22': 22}\n",
        "chopAndExport(s_ovl[1],  manualp)\n"
      ],
      "execution_count": null,
      "outputs": []
    },
    {
      "cell_type": "markdown",
      "metadata": {
        "id": "u9lgVjgf2HXP"
      },
      "source": [
        "##Full Song Mode"
      ]
    },
    {
      "cell_type": "code",
      "metadata": {
        "id": "bLnj_fVo2GBu"
      },
      "source": [
        "ofullsong =  (77.00000000000003, '/mnt/c/Users/andre/OneDrive/Music/Library/DB/Prince - Gold.mp3', 10, [1, 2, 3, 4, 5, 6, 7, 8, 9, 10, 11, 12, 0, 1, 2, 3, 0, 1, 2, 3, 0, 1, 2, 3, 0, 1, 2, 3, 0, 1, 2, 3], {'C': 0, 'D': 0, 'B': 0, 'A': 0})\n"
      ],
      "execution_count": null,
      "outputs": []
    },
    {
      "cell_type": "code",
      "metadata": {
        "id": "IrshRRQw3Z5C"
      },
      "source": [
        "ot = ofullsong[1]"
      ],
      "execution_count": null,
      "outputs": []
    },
    {
      "cell_type": "code",
      "metadata": {
        "id": "O3w-nZ293RLm"
      },
      "source": [
        "okey = getMixedInKeyKey(ot)\n",
        "okey = okey.split('/')[0] #C#/D#\n",
        "okey = okey.strip()\n",
        "print(ot, '>'+okey+'<')"
      ],
      "execution_count": null,
      "outputs": []
    },
    {
      "cell_type": "code",
      "metadata": {
        "id": "fIxPiUwY3RLr"
      },
      "source": [
        "opcps, ox = createPCPs(okey)\n",
        "ox"
      ],
      "execution_count": null,
      "outputs": []
    },
    {
      "cell_type": "code",
      "metadata": {
        "id": "DB-F9jGN4I2P"
      },
      "source": [
        "obg = BeatGrid.fromTrack(ot)"
      ],
      "execution_count": null,
      "outputs": []
    },
    {
      "cell_type": "code",
      "metadata": {
        "id": "V2Mlu6T06HLY"
      },
      "source": [
        "ostart = obg.get111ind()\n",
        "oend   = obg.getLastBeatInd()\n",
        "print(ostart, oend)\n",
        "obg.beats[ostart], obg.beats[oend], (oend-ostart)/4"
      ],
      "execution_count": null,
      "outputs": []
    },
    {
      "cell_type": "code",
      "metadata": {
        "id": "itC_QaTXD1kr"
      },
      "source": [
        "oaudio = AudioSegment.from_file(ot, format=\"mp3\")"
      ],
      "execution_count": null,
      "outputs": []
    },
    {
      "cell_type": "code",
      "metadata": {
        "id": "AHmIXRtiD1ks"
      },
      "source": [
        "o, sr = librosa.load(str(ot)) "
      ],
      "execution_count": null,
      "outputs": []
    },
    {
      "cell_type": "code",
      "metadata": {
        "id": "qUKex5-msfwI"
      },
      "source": [
        "bt1     = obg.getDownBeatTimes(1)\n",
        "bt2     = obg.getDownBeatTimes(2)\n",
        "bt3     = obg.getDownBeatTimes(3)\n",
        "bt4     = obg.getDownBeatTimes(4)\n",
        "\n",
        "\n",
        "#print(dbs_ind)\n",
        "b1clicks = librosa.clicks(bt1, sr=sr, click_freq=1000, length=len(o))\n",
        "b2clicks = librosa.clicks(bt2, sr=sr, click_freq=1500, length=len(o))\n",
        "b3clicks = librosa.clicks(bt3, sr=sr, click_freq=2000, length=len(o))\n",
        "b4clicks = librosa.clicks(bt4, sr=sr, click_freq=2500, length=len(o))\n",
        "\n",
        "clicks = b1clicks + b2clicks + b3clicks + b4clicks\n",
        "#clicks = b1clicks\n",
        "\n",
        "\n",
        "\n",
        "#dbclicks = librosa.clicks(mbg.getDownBeatTimes(3), sr=sr, click_freq=2000, length=len(x))\n",
        "\n",
        "sf.write('oplusclicks.wav', o+clicks, sr, subtype='PCM_24')\n",
        "\n",
        "clickseg = AudioSegment.from_wav('oplusclicks.wav')\n",
        "clickseg"
      ],
      "execution_count": null,
      "outputs": []
    },
    {
      "cell_type": "code",
      "metadata": {
        "id": "cFWhixvsulNU"
      },
      "source": [
        "#m1"
      ],
      "execution_count": null,
      "outputs": []
    },
    {
      "cell_type": "code",
      "metadata": {
        "id": "OBGnhRkQtHmo"
      },
      "source": [
        "list(enumerate(obg.beats)) #73.49,   -62"
      ],
      "execution_count": null,
      "outputs": []
    },
    {
      "cell_type": "code",
      "metadata": {
        "id": "whuHkxwDwwZ5"
      },
      "source": [
        "#(134, (75.72, 1)),\n",
        "406/4"
      ],
      "execution_count": null,
      "outputs": []
    },
    {
      "cell_type": "code",
      "metadata": {
        "id": "HJMoujx_teAY"
      },
      "source": [
        "#obeats = ochromas[0][0].shape[0]//1\n",
        "#omeasures = obeats // 4\n",
        "olist = [(1,9)] \n"
      ],
      "execution_count": null,
      "outputs": []
    },
    {
      "cell_type": "code",
      "metadata": {
        "id": "di5C5avgMgG_"
      },
      "source": [
        "os_ = list()\n",
        "fb = obg.get111ind()\n",
        "for oo in olist:\n",
        "  os_.append((fb+oo[0]*4, fb+oo[1]*4))\n",
        "\n"
      ],
      "execution_count": null,
      "outputs": []
    },
    {
      "cell_type": "code",
      "metadata": {
        "id": "pdX5IVDkNMKr"
      },
      "source": [
        "oloops, _ = chopLoops(oaudio, obg, os_)"
      ],
      "execution_count": null,
      "outputs": []
    },
    {
      "cell_type": "code",
      "metadata": {
        "id": "nFqpXG29NcLV"
      },
      "source": [
        "oloops[0][0]"
      ],
      "execution_count": null,
      "outputs": []
    },
    {
      "cell_type": "code",
      "metadata": {
        "id": "z7_lZu3W3RLt"
      },
      "source": [
        "ochromas = list()\n",
        "ostart = obg.get111ind()\n",
        "oend   = obg.getLastBeatInd()\n",
        "_33beats = obg.getBeatTimes()[ostart:oend+1]\n",
        "print(len(_33beats))\n",
        "\n",
        "omedians4, omedians1, omedians16 = processQueryLoop(o, _33beats)\n",
        "\n",
        "ochroma = np.stack(omedians4)\n",
        "ofree   = matchPCPS(ochroma,freepcps)\n",
        "okey    = matchPCPS(ochroma,qpcps)\n",
        "ochromas.append((ochroma, ofree, okey))"
      ],
      "execution_count": null,
      "outputs": []
    },
    {
      "cell_type": "code",
      "metadata": {
        "id": "N5uC5ixBEUS_"
      },
      "source": [
        "ochromas[0][0].shape"
      ],
      "execution_count": null,
      "outputs": []
    },
    {
      "cell_type": "code",
      "metadata": {
        "id": "BWqPBi2-Et3c"
      },
      "source": [
        "#measureToIndex\n",
        "def m2i(m, divisionsPerBeat):\n",
        "  return m*4*divisionsPerBeat"
      ],
      "execution_count": null,
      "outputs": []
    },
    {
      "cell_type": "code",
      "metadata": {
        "id": "Qd_Vpw64Et3e"
      },
      "source": [
        "#EX ULTRAWIDE Q, with 2 Measures match\n",
        "def ultraWideQ2MeasuresMatchFullTrack(ot, ochroma_, olist, qchroma_, divisionsPerBeat=1):\n",
        "  dpb = divisionsPerBeat\n",
        "  scores = list()\n",
        "  qbeats = qchroma_.shape[0]//divisionsPerBeat\n",
        "  qmeasures = qbeats // 4\n",
        "  obeats = ochroma_.shape[0]//divisionsPerBeat\n",
        "  omeasures = obeats // 4\n",
        "\n",
        "  for pitch in tqdm([-3, -2, -1, 0, 1, 2, 3]):\n",
        "    qr = np.roll(qchroma_, pitch, axis=1)\n",
        "    s = np.matmul(ochroma_, qr.T)\n",
        "    print(ochroma.shape, qr.shape, s.shape)\n",
        "    tstart = 0\n",
        "\n",
        "    gscore = 0\n",
        "    patterns = list()\n",
        "    pattern8s = list()\n",
        "    for len in [8, 4, 2, 1]:\n",
        "      score = 0\n",
        "      pattern = list()\n",
        "      pattern8 = list()\n",
        "      for qm in range(0,qmeasures, len):\n",
        "        max         = -1.0\n",
        "        maxmeasure  = -1\n",
        "        max8        = -1.0\n",
        "        maxmeasure8 = -1\n",
        "        for o in olist:\n",
        "          for tm in range(o[0],o[1]-len+1, 1):\n",
        "            x = np.trace(s[tstart+m2i(tm, dpb):tstart+m2i(tm+len, dpb), m2i(qm, dpb):m2i(qm+len, dpb)])\n",
        "            #print(tm, qm, x, m2i(tm, dpb), m2i(qm, dpb))\n",
        "            if x > max:\n",
        "              max = x\n",
        "              maxmeasure = tm\n",
        "            if tm < 8 and x > max8:\n",
        "              max8 = x\n",
        "              maxmeasure8 = tm\n",
        "        #print(maxbeat, x)\n",
        "        score += max\n",
        "        for i in range(len):\n",
        "          pattern.append(maxmeasure+i)\n",
        "          pattern8.append(maxmeasure8+i)\n",
        "      gscore += score\n",
        "      patterns.append((score, pattern, pattern8))\n",
        "\n",
        "    if not np.isnan(score):\n",
        "      scores.append((gscore, primarykey(ot), -pitch, patterns[0][0], patterns[0][1], patterns[0][2], patterns[1][0], patterns[1][1], patterns[1][2], patterns[2][0], patterns[2][1], patterns[2][2], patterns[3][0], patterns[3][1], patterns[3][2]))\n",
        "    else:\n",
        "      print('isnan')\n",
        "\n",
        "  return scores"
      ],
      "execution_count": null,
      "outputs": []
    },
    {
      "cell_type": "code",
      "metadata": {
        "id": "iv7_2DaT8dJ0"
      },
      "source": [
        "#EX ULTRAWIDE Q, with 2 Measures match\n",
        "def ultraWideQ2MeasuresMatchFullTrackPattern(ot, ochroma_, olist, ofirstm, qchroma_, pitch_, pattern, divisionsPerBeat=1):\n",
        "  patternind = pattern2ind(pattern)\n",
        "  dpb = divisionsPerBeat\n",
        "  scores = list()\n",
        "  qbeats = qchroma_.shape[0]//divisionsPerBeat\n",
        "  qmeasures = qbeats // 4\n",
        "  obeats = ochroma_.shape[0]//divisionsPerBeat\n",
        "  omeasures = obeats // 4\n",
        "\n",
        "  print('qbeats=', qbeats, '; qmeasures=', qmeasures, '; pattern=', len(pattern)*4, '; OK=', qmeasures==len(pattern)*4)\n",
        "  if qmeasures!=len(pattern)*4:\n",
        "    return\n",
        "\n",
        "  for pitch in tqdm([pitch_]):\n",
        "    qr = np.roll(qchroma_, pitch, axis=1)\n",
        "    s = np.matmul(ochroma_, qr.T)\n",
        "    print(ochroma.shape, qr.shape, s.shape)\n",
        "\n",
        "    tstart = 0\n",
        "    # gscore = 0\n",
        "    # xpatterns = list()\n",
        "    # xpattern8s = list()\n",
        "    length = 4\n",
        "    score = 0\n",
        "    # xpattern = list()\n",
        "    # xpattern8 = list()\n",
        "    symbolmeasure =  dict()\n",
        "    symbolmeasureOld =  dict()\n",
        "    symbolmeasureOldOld =  dict()\n",
        "    for patternsymbol in patternind.keys():\n",
        "        patternindices = patternind[patternsymbol]\n",
        "        maxtmscore = -3.0\n",
        "        maxtm      = -3\n",
        "        maxtmscore2 = -2.0\n",
        "        maxtm2      = -2\n",
        "        maxtmscore3 = -1.0\n",
        "        maxtm3      = -1\n",
        "        for o in olist:\n",
        "            for tm in range(o[0],o[1]-length+1, 4):\n",
        "              tmscore = 0\n",
        "              for pi in patternindices:\n",
        "                #Pro pattern index = 4 Bars\n",
        "                qm = pi*4\n",
        "                x = np.trace(s[tstart+m2i(tm, dpb):tstart+m2i(tm+length, dpb), m2i(qm, dpb):m2i(qm+length, dpb)])\n",
        "                tmscore += x\n",
        "                # if qm==4:\n",
        "                #   print(f'qm={qm}, tm={tm}, score={tmscore}')\n",
        "              if tmscore > maxtmscore:\n",
        "                maxtmscore3 = maxtmscore2\n",
        "                maxtm3 = maxtm2\n",
        "                maxtmscore2 = maxtmscore\n",
        "                maxtm2 = maxtm\n",
        "                maxtmscore = tmscore\n",
        "                maxtm = tm\n",
        "                print(patternsymbol, o, tm, '3:', maxtm, maxtm2, maxtm3)\n",
        "              elif tmscore > maxtmscore2:\n",
        "                maxtmscore3 = maxtmscore2\n",
        "                maxtm3 = maxtm2\n",
        "                maxtmscore2 = tmscore\n",
        "                maxtm2 = tm\n",
        "                print(patternsymbol, o, tm, '2:', maxtm, maxtm2, maxtm3)\n",
        "              elif tmscore > maxtmscore3:\n",
        "                maxtmscore3 = tmscore\n",
        "                maxtm3 = tm\n",
        "                print(patternsymbol, o, tm, '1:', maxtm, maxtm2, maxtm3)\n",
        "        score += maxtmscore\n",
        "        symbolmeasure[patternsymbol]=maxtm\n",
        "        symbolmeasureOld[patternsymbol]=maxtm2\n",
        "        symbolmeasureOldOld[patternsymbol]=maxtm3\n",
        "            \n",
        "    if not np.isnan(score):\n",
        "      scores.append((score, ot, pitch, ind2pattern(symbolmeasure, pattern, length), symbolmeasure, ind2pattern(symbolmeasureOld, pattern, length), symbolmeasureOld, ind2pattern(symbolmeasureOldOld, pattern, length), symbolmeasureOldOld))\n",
        "    else:\n",
        "      print('isnan')\n",
        "\n",
        "  return scores"
      ],
      "execution_count": null,
      "outputs": []
    },
    {
      "cell_type": "code",
      "metadata": {
        "id": "boKHdcmr_UVI"
      },
      "source": [
        "pitch_= ofullsong[2]\n",
        "ofirstm=1\n",
        "pattern_=['A', 'A', 'B', 'B', 'C', 'D', 'C', 'D']\n",
        "oscores = list()\n",
        "tmp = ultraWideQ2MeasuresMatchFullTrackPattern(ot, ochromas[0][0], olist, ofirstm, qchromas[0][0],pitch_, pattern_,  divisionsPerBeat=1)\n",
        "tmp.sort(key=lambda s: s[0], reverse=True)\n",
        "oscores.append(tmp[0])\n",
        "tmp = ultraWideQ2MeasuresMatchFullTrackPattern(ot, ochromas[0][1], olist, ofirstm, qchromas[0][0], pitch_, pattern_,  divisionsPerBeat=1)\n",
        "tmp.sort(key=lambda s: s[0], reverse=True)\n",
        "oscores.append(tmp[0])\n",
        "tmp = ultraWideQ2MeasuresMatchFullTrackPattern(ot, ochromas[0][2], olist, ofirstm, qchromas[0][0], pitch_, pattern_,  divisionsPerBeat=1)\n",
        "tmp.sort(key=lambda s: s[0], reverse=True)\n",
        "oscores.append(tmp[0])\n",
        "\n",
        "tmp = ultraWideQ2MeasuresMatchFullTrackPattern(ot, ochromas[0][0], olist, ofirstm, qchromas[0][1], pitch_, pattern_,  divisionsPerBeat=1)\n",
        "tmp.sort(key=lambda s: s[0], reverse=True)\n",
        "oscores.append(tmp[0])\n",
        "tmp = ultraWideQ2MeasuresMatchFullTrackPattern(ot, ochromas[0][1], olist, ofirstm, qchromas[0][1], pitch_, pattern_,  divisionsPerBeat=1)\n",
        "tmp.sort(key=lambda s: s[0], reverse=True)\n",
        "oscores.append(tmp[0])\n",
        "tmp = ultraWideQ2MeasuresMatchFullTrackPattern(ot, ochromas[0][2], olist, ofirstm, qchromas[0][1], pitch_, pattern_,  divisionsPerBeat=1)\n",
        "tmp.sort(key=lambda s: s[0], reverse=True)\n",
        "oscores.append(tmp[0])\n",
        "\n",
        "tmp = ultraWideQ2MeasuresMatchFullTrackPattern(ot, ochromas[0][0], olist, ofirstm, qchromas[0][2], pitch_, pattern_,  divisionsPerBeat=1)\n",
        "tmp.sort(key=lambda s: s[0], reverse=True)\n",
        "oscores.append(tmp[0])\n",
        "tmp = ultraWideQ2MeasuresMatchFullTrackPattern(ot, ochromas[0][1], olist, ofirstm, qchromas[0][2], pitch_, pattern_,  divisionsPerBeat=1)\n",
        "tmp.sort(key=lambda s: s[0], reverse=True)\n",
        "oscores.append(tmp[0])\n",
        "tmp = ultraWideQ2MeasuresMatchFullTrackPattern(ot, ochromas[0][2], olist, ofirstm, qchromas[0][2], pitch_, pattern_,  divisionsPerBeat=1)\n",
        "tmp.sort(key=lambda s: s[0], reverse=True)\n",
        "oscores.append(tmp[0])\n",
        "\n",
        "\n"
      ],
      "execution_count": null,
      "outputs": []
    },
    {
      "cell_type": "code",
      "metadata": {
        "id": "XWQn72zaGPoV"
      },
      "source": [
        "oscores = list()\n",
        "tmp = ultraWideQ2MeasuresMatchFullTrack(ot, ochromas[0][0], olist, qchromas[0][0], divisionsPerBeat=1)\n",
        "tmp.sort(key=lambda s: s[0], reverse=True)\n",
        "oscores.append(tmp[0])\n",
        "tmp = ultraWideQ2MeasuresMatchFullTrack(ot, ochromas[0][1], olist, qchromas[0][0], divisionsPerBeat=1)\n",
        "tmp.sort(key=lambda s: s[0], reverse=True)\n",
        "oscores.append(tmp[0])\n",
        "tmp = ultraWideQ2MeasuresMatchFullTrack(ot, ochromas[0][2], olist, qchromas[0][0], divisionsPerBeat=1)\n",
        "tmp.sort(key=lambda s: s[0], reverse=True)\n",
        "oscores.append(tmp[0])\n",
        "\n",
        "tmp = ultraWideQ2MeasuresMatchFullTrack(ot, ochromas[0][0], olist,qchromas[0][1], divisionsPerBeat=1)\n",
        "tmp.sort(key=lambda s: s[0], reverse=True)\n",
        "oscores.append(tmp[0])\n",
        "tmp = ultraWideQ2MeasuresMatchFullTrack(ot, ochromas[0][1], olist, qchromas[0][1], divisionsPerBeat=1)\n",
        "tmp.sort(key=lambda s: s[0], reverse=True)\n",
        "oscores.append(tmp[0])\n",
        "tmp = ultraWideQ2MeasuresMatchFullTrack(ot, ochromas[0][2], olist, qchromas[0][1], divisionsPerBeat=1)\n",
        "tmp.sort(key=lambda s: s[0], reverse=True)\n",
        "oscores.append(tmp[0])\n",
        "\n",
        "tmp = ultraWideQ2MeasuresMatchFullTrack(ot, ochromas[0][0], olist, qchromas[0][2], divisionsPerBeat=1)\n",
        "tmp.sort(key=lambda s: s[0], reverse=True)\n",
        "oscores.append(tmp[0])\n",
        "tmp = ultraWideQ2MeasuresMatchFullTrack(ot, ochromas[0][1], olist, qchromas[0][2], divisionsPerBeat=1)\n",
        "tmp.sort(key=lambda s: s[0], reverse=True)\n",
        "oscores.append(tmp[0])\n",
        "tmp = ultraWideQ2MeasuresMatchFullTrack(ot, ochromas[0][2], olist, qchromas[0][2], divisionsPerBeat=1)\n",
        "tmp.sort(key=lambda s: s[0], reverse=True)\n",
        "oscores.append(tmp[0])\n",
        "\n",
        "\n"
      ],
      "execution_count": null,
      "outputs": []
    },
    {
      "cell_type": "code",
      "metadata": {
        "id": "KdCZlUHtGyL6"
      },
      "source": [
        "oscores.sort(key=lambda s: s[0], reverse=True)"
      ],
      "execution_count": null,
      "outputs": []
    },
    {
      "cell_type": "code",
      "metadata": {
        "id": "_ZjKwPnUGyL7"
      },
      "source": [
        "print(oscores[0])"
      ],
      "execution_count": null,
      "outputs": []
    },
    {
      "cell_type": "code",
      "metadata": {
        "id": "CgmnCmcfGyMD"
      },
      "source": [
        "loop = loops[0]\n",
        "for s in oscores:\n",
        "  if s[2] in [4,6,8] or True:\n",
        "    print(s[3])\n",
        "    print(s[5])\n",
        "    print(s[7])\n",
        "    outputMix(loop, s, '8', _pattternind=3, loopdb=-12, ovldb=-15)\n",
        "    # outputMix(loop, s, '8', _pattternind=5, loopdb=-6, ovldb=-15)\n",
        "    # outputMix(loop, s, '8', _pattternind=7, loopdb=-6, ovldb=-15)\n",
        "    # outputMix(loop, s, '4', _pattternind=7, loopdb=-15)\n",
        "    # outputMix(loop, s, '2', _pattternind=10, loopdb=-15)\n",
        "    # outputMix(loop, s, '1', _pattternind=13, loopdb=-15)\n"
      ],
      "execution_count": null,
      "outputs": []
    },
    {
      "cell_type": "markdown",
      "metadata": {
        "id": "U6a7XwJ2UY0A"
      },
      "source": [
        "###ExportBeatgridVDJ(ot)"
      ]
    },
    {
      "cell_type": "code",
      "metadata": {
        "id": "rmluGPDUm8FF"
      },
      "source": [
        "exportBeatgridVDJ(mbg)"
      ],
      "execution_count": null,
      "outputs": []
    },
    {
      "cell_type": "code",
      "metadata": {
        "id": "DhByo1IAgRoC"
      },
      "source": [
        "60/(219-216.31)*4"
      ],
      "execution_count": null,
      "outputs": []
    },
    {
      "cell_type": "code",
      "metadata": {
        "id": "y_sy7Uihm8FD"
      },
      "source": [
        "exportCueMeasures(ot, [84, 88, 6, 10, 7, 11])"
      ],
      "execution_count": null,
      "outputs": []
    },
    {
      "cell_type": "code",
      "metadata": {
        "id": "z-eHj4i0Ghrh"
      },
      "source": [
        "scoresfm[0]"
      ],
      "execution_count": null,
      "outputs": []
    },
    {
      "cell_type": "markdown",
      "metadata": {
        "id": "celu5GwjR-I2"
      },
      "source": [
        "#MANUAL MODE\n",
        "\n",
        "\n",
        "---\n",
        "\n"
      ]
    },
    {
      "cell_type": "markdown",
      "metadata": {
        "id": "28RAQYnHak1F"
      },
      "source": [
        "# Neuer Abschnitt"
      ]
    },
    {
      "cell_type": "code",
      "metadata": {
        "id": "5Kcrrf9WauGq"
      },
      "source": [
        ""
      ],
      "execution_count": null,
      "outputs": []
    },
    {
      "cell_type": "markdown",
      "metadata": {
        "id": "iZqEIganZ5Xj"
      },
      "source": [
        "##pychord"
      ]
    },
    {
      "cell_type": "code",
      "metadata": {
        "id": "hCX-jKEa5EBR"
      },
      "source": [
        "from pychord import Chord\n",
        "c = Chord(\"Ebm\")"
      ],
      "execution_count": null,
      "outputs": []
    },
    {
      "cell_type": "code",
      "metadata": {
        "id": "XRFpphaJ5Tgd"
      },
      "source": [
        "c.components()"
      ],
      "execution_count": null,
      "outputs": []
    },
    {
      "cell_type": "markdown",
      "metadata": {
        "id": "BoZXBVWa_TMP"
      },
      "source": [
        "['F', 'A', 'C', 'D'] f6\n",
        "['D', 'F', 'A', 'C'] dm7"
      ]
    },
    {
      "cell_type": "code",
      "metadata": {
        "id": "z10S6bzKtIan"
      },
      "source": [
        "Chord('D#m').components()"
      ],
      "execution_count": null,
      "outputs": []
    },
    {
      "cell_type": "code",
      "metadata": {
        "id": "3tNYd_oYtNn4"
      },
      "source": [
        "Chord('F#6').components()"
      ],
      "execution_count": null,
      "outputs": []
    },
    {
      "cell_type": "code",
      "metadata": {
        "id": "gO_FeGkIt7TI"
      },
      "source": [
        "Chord('G#m7').components()"
      ],
      "execution_count": null,
      "outputs": []
    },
    {
      "cell_type": "code",
      "metadata": {
        "id": "fxzeq4Q_OLVG"
      },
      "source": [
        "pitches = ['C','C#','D','D#','E','F','F#','G','G#','A','A#','B', 'C','Db','D','Eb','E','F','Gb','G','Ab','A','Bb','B'] #, 'cm','c#m','dm','d#m','em','fm','f#m','gm','g#m','a','a#m','bm']"
      ],
      "execution_count": null,
      "outputs": []
    },
    {
      "cell_type": "code",
      "metadata": {
        "id": "PVCH1fbB8oJF"
      },
      "source": [
        "def createChordPCP(c):\n",
        "  v = np.zeros(12)\n",
        "  for note in c.components():\n",
        "    #print(note, pitches.index(note))\n",
        "    v[pitches.index(note)%12]=1.\n",
        "  return normalize(v)"
      ],
      "execution_count": null,
      "outputs": []
    },
    {
      "cell_type": "code",
      "metadata": {
        "id": "bWHv5LA69xse"
      },
      "source": [
        "createChordPCP(Chord('F6'))"
      ],
      "execution_count": null,
      "outputs": []
    },
    {
      "cell_type": "code",
      "metadata": {
        "id": "F4LmS84qt4lG"
      },
      "source": [
        "def manualMode(chordseq):\n",
        "  chords = list()\n",
        "  for c in chordseq:\n",
        "    ind = pitches.index(c)\n",
        "    chords.append(pcps[ind])\n",
        "\n",
        "  return np.stack(chords)\n"
      ],
      "execution_count": null,
      "outputs": []
    },
    {
      "cell_type": "code",
      "metadata": {
        "id": "PEgacvUPLm71"
      },
      "source": [
        "F6.components()"
      ],
      "execution_count": null,
      "outputs": []
    },
    {
      "cell_type": "code",
      "metadata": {
        "id": "7ZAlNSc5ANQh"
      },
      "source": [
        "Fis6 = Chord('F#6')\n",
        "F = Chord('F')\n",
        "Gism7 = Chord('G#m7')\n",
        "Dism7 = Chord('D#m7')\n",
        "Dism = Chord('D#m')\n",
        "Dm7 = Chord('Dm7')\n",
        "Dm = Chord('Dm')\n",
        "Am = Chord('Am')\n",
        "Am7 = Chord('Am7')\n",
        "Cissus4 = Chord('C#sus4')\n",
        "Cissus2 = Chord('C#sus2')\n",
        "Cis = Chord('C#')\n",
        "C = Chord('C')\n",
        "G = Chord('G')\n",
        "FA = Chord('F/A')\n",
        "Ebm = Chord('Ebm')\n",
        "Ebm6 = Chord('Ebm6')\n",
        "Abm = Chord('Abm')\n",
        "Db = Chord('Db')\n",
        "D = Chord('D')\n",
        "Bb = Chord('Bb')\n",
        "C7E = Chord('C7/E')"
      ],
      "execution_count": null,
      "outputs": []
    },
    {
      "cell_type": "code",
      "metadata": {
        "id": "uR3e1JQBMbYV"
      },
      "source": [
        "def mult(c, times):\n",
        "  return [c for i in range(times)]"
      ],
      "execution_count": null,
      "outputs": []
    },
    {
      "cell_type": "code",
      "metadata": {
        "id": "1hA4C1XBMrgW"
      },
      "source": [
        "# v1 = [F6, F6, F6, F6, F6, F6, F6, F6, F6, F6, F6, F6, F6, F6, F6, F6]\n",
        "# v2 = [Gm7, Gm7, Gm7, Gm7, Gm7, Gm7, Gm7, Gm7, F6, F6, F6, F6, F6, F6, F6, F6]\n",
        "# v3 = [Gm7, Gm7, Gm7, Dm7, Dm7, Dm7, Dm7, Dm7, Gm7, Gm7, Gm7, Dm7, Dm7, Dm7, Dm7, Dm7]\n",
        "# p1 = [Csus4, Csus4, Csus4, C, Csus2, Csus2, C, C]\n",
        "# lav = v1+v2+v1+v3+p1+v1+v2"
      ],
      "execution_count": null,
      "outputs": []
    },
    {
      "cell_type": "code",
      "metadata": {
        "id": "mPxafmImsFge"
      },
      "source": [
        "v1 = mult(Fis6, 16)\n",
        "v2 = mult(Gism7, 8) + mult(Fis6, 8)\n",
        "v3 = mult(Gism7, 4) + mult(Dism7, 4) + mult(Gism7, 4) + mult(Dism7, 4)\n",
        "p1 = [Cissus4, Cissus4, Cissus4, Cis, Cissus2, Cissus2, Cis, Cis]\n",
        "lav = v1+v2+v1+v3+p1+v1+v2"
      ],
      "execution_count": null,
      "outputs": []
    },
    {
      "cell_type": "code",
      "metadata": {
        "id": "khKCOE5-uM_o"
      },
      "source": [
        "v1 = mult(Fis6, 4) + mult(Dism, 4) + mult(Gism7, 4) + mult(Fis6, 4)\n",
        "v2 = mult(Dism, 12) + mult(Fis6, 4)\n",
        "v3 = mult(Gism7, 4) + mult(Dism7, 4) + mult(Gism7, 4) + mult(Dism7, 4)\n",
        "p1 = [Cissus4, Cissus4, Cissus4, Cis, Cissus2, Cissus2, Cis, Cis]\n",
        "lav = v1+v2+v1+v3+p1+v1+v2"
      ],
      "execution_count": null,
      "outputs": []
    },
    {
      "cell_type": "code",
      "metadata": {
        "id": "_IMdGCA7hzaF"
      },
      "source": [
        "v0 = mult(Ebm6, 4) + mult(Bb, 4) + mult(Dm7, 4)\n",
        "v1 = v0 + mult(Am, 4)\n",
        "v2 = v0 + [C, Dm, C7E, C7E]\n",
        "c0 = [ F, F, Bb, C, Am7, Am7, Dm, C] + mult(Gm7, 6) + [Am7, Am7]\n",
        "ngbms = v1 + v2 + c0 + c0"
      ],
      "execution_count": null,
      "outputs": []
    },
    {
      "cell_type": "code",
      "metadata": {
        "id": "EHh9mvXmlIzW"
      },
      "source": [
        "len(ngbms)"
      ],
      "execution_count": null,
      "outputs": []
    },
    {
      "cell_type": "code",
      "metadata": {
        "id": "ghRzZSf8RCJl"
      },
      "source": [
        "# v1 = [Ebm, Ebm, Ebm, Ebm, Ebm, Ebm, Ebm, Ebm, Ebm, Ebm, Ebm, Ebm, Ebm, Ebm, Ebm, Ebm]\n",
        "# v2 = [Abm, Abm, Abm, Abm, Abm, Abm, Abm, Abm,  Ebm, Ebm, Ebm, Ebm,Ebm, Ebm, Ebm, Ebm]\n",
        "# v3 = [Abm, Abm, Abm, Abm, Ebm, Ebm, Ebm, Ebm, Abm, Abm, Abm, Abm, Ebm, Ebm, Ebm, Ebm]\n",
        "# p1 = [Db, Db, Db, Db, Db, Db, Db, Db]\n",
        "# lav = v1+v2+v1+v3+p1+v1+v2"
      ],
      "execution_count": null,
      "outputs": []
    },
    {
      "cell_type": "code",
      "metadata": {
        "id": "u4NgfW8gZEo2"
      },
      "source": [
        "#Tarzan Boy intro\n",
        "i1 = [F, F, F, C, Dm, Dm , Dm , Dm, Bb, Bb, Bb, C, F, F, F, F]\n",
        "v1 = [Dm, Dm, Bb, Bb, C, C, C, C]\n",
        "v2 = [Dm, Dm, Bb, Bb, C, C, C7E, C7E]\n",
        "v3 = [Dm, Dm, C, C, F, F, F, F]\n",
        "v = v1 + v1 + v2 + v3\n",
        "print(len(v))\n",
        "c = [F, F, F, C, Dm7, Dm7, Dm7, Dm7, Bb, Bb, Bb, C, F, F, F, F]\n",
        "tb = c+c+c+c"
      ],
      "execution_count": null,
      "outputs": []
    },
    {
      "cell_type": "code",
      "metadata": {
        "id": "K8MooswVGxRz"
      },
      "source": [
        "c1 = [C, C, C, C, G, G, G, G, F, F, F, F, FA, FA, FA, FA]\n",
        "c2 = [C, C, C, C, G, G, G, G, F, F, F, F, D, D, D, D]\n",
        "hltw = c1 + c2 + c1 + c2"
      ],
      "execution_count": null,
      "outputs": []
    },
    {
      "cell_type": "code",
      "metadata": {
        "id": "qqfqfW4dHAmv"
      },
      "source": [
        "pcps = list()\n",
        "for c in hltw:\n",
        "  #c.transpose(1)\n",
        "  pcps.append(createChordPCP(c))"
      ],
      "execution_count": null,
      "outputs": []
    },
    {
      "cell_type": "code",
      "metadata": {
        "id": "j29eDiF2HMh6"
      },
      "source": [
        "len(pcps)"
      ],
      "execution_count": null,
      "outputs": []
    },
    {
      "cell_type": "code",
      "metadata": {
        "id": "Y899H4dbHQT_"
      },
      "source": [
        "qmanual = np.stack(pcps)"
      ],
      "execution_count": null,
      "outputs": []
    },
    {
      "cell_type": "code",
      "metadata": {
        "id": "Ia_TCa4YHVYa"
      },
      "source": [
        "qmanual.shape"
      ],
      "execution_count": null,
      "outputs": []
    },
    {
      "cell_type": "code",
      "metadata": {
        "id": "e1cXUR06NBDX"
      },
      "source": [
        "qstring = 'c#m c#m c#m c#m f#m f#m f#m f#m c#m c#m c#m c#m f#m f#m f#m f#m c#m c#m c#m c#m f#m f#m f#m f#m c#m c#m c#m c#m f#m f#m f#m f#m'"
      ],
      "execution_count": null,
      "outputs": []
    },
    {
      "cell_type": "code",
      "metadata": {
        "id": "qAskPPb9SAnO"
      },
      "source": [
        "qstring = \"Em Em Em Em Am Am F F C C C C G G G G Em Em Em Em Am Am F F C C C C G G G G \""
      ],
      "execution_count": null,
      "outputs": []
    },
    {
      "cell_type": "markdown",
      "metadata": {
        "id": "FnbsvJA3fwqs"
      },
      "source": [
        "Falco KoMMissar:\n",
        "v = 'am am G G G G em em  am am G G em em em em '\n",
        "c = 'D D D D am am am am D D D D  am am am am  D D D D  C C  am am '\n",
        "qstring = v + v + v + v + c + ' am am G G G G em em'"
      ]
    },
    {
      "cell_type": "code",
      "metadata": {
        "id": "6rNTpplpRbYl"
      },
      "source": [
        "#Tarzan Boy\n",
        "c = ' F F F C dm dm dm dm A# A# A# C F F F F '\n",
        "v1 = ' dm dm A# A# C C C C '\n",
        "v2 = ' dm dm A# A# C C A A '\n",
        "v3 = ' dm dm C C F F F F  '\n",
        "\n",
        "v = v1 + v1 + v2 + v3\n",
        "\n",
        "\n",
        "qstring = c + c + v + v + c + c"
      ],
      "execution_count": null,
      "outputs": []
    },
    {
      "cell_type": "code",
      "metadata": {
        "id": "4TWrf1XHgsPI"
      },
      "source": [
        "len(qstring.split())"
      ],
      "execution_count": null,
      "outputs": []
    },
    {
      "cell_type": "code",
      "metadata": {
        "id": "lwBJS4sglxrC"
      },
      "source": [
        "162-34"
      ],
      "execution_count": null,
      "outputs": []
    },
    {
      "cell_type": "code",
      "metadata": {
        "id": "OurkatA7t2tI"
      },
      "source": [
        "all = dur.copy()"
      ],
      "execution_count": null,
      "outputs": []
    },
    {
      "cell_type": "code",
      "metadata": {
        "id": "AoHz2egXt6WZ"
      },
      "source": [
        "all.extend(moll)"
      ],
      "execution_count": null,
      "outputs": []
    },
    {
      "cell_type": "code",
      "metadata": {
        "id": "7zrP5RDmuaGS"
      },
      "source": [
        "all"
      ],
      "execution_count": null,
      "outputs": []
    },
    {
      "cell_type": "code",
      "metadata": {
        "id": "lKFT6O5UOk7e"
      },
      "source": [
        "chordseq = qstring.split()"
      ],
      "execution_count": null,
      "outputs": []
    },
    {
      "cell_type": "code",
      "metadata": {
        "id": "ihmgdHY4OeqA"
      },
      "source": [
        "chords = list()\n",
        "for c in chordseq:\n",
        "  if c in all:\n",
        "    ind = all.index(c)\n",
        "    chords.append(freepcps[ind])\n",
        "    chords.append(freepcps[ind])\n",
        "    chords.append(freepcps[ind])\n",
        "    chords.append(freepcps[ind])\n",
        "  else:\n",
        "    print(\"ALARM\", c)\n",
        "  \n",
        "\n",
        "qmanual = np.stack(chords)"
      ],
      "execution_count": null,
      "outputs": []
    },
    {
      "cell_type": "code",
      "metadata": {
        "id": "Nlx2u9WUvekp"
      },
      "source": [
        "# trackse = trackf.keys()\n",
        "# valuese = [trackf[k] for k in trackse]\n",
        "# trackme = np.concatenate(valuese)\n",
        "\n",
        "# #scoresfm = ultraWideQ2MeasuresMatch(list(trackse)[0:3], trackme[0:3*96*4*4], qchromas[0][0], divisionsPerBeat=4)\n",
        "# scoresfm = ultraWideQ2MeasuresPatternMatch(trackse, trackme, qchromas[0][0], pattern=['A', 'A', 'B', 'B', 'C', 'D', 'C', 'D'],  divisionsPerBeat=1)"
      ],
      "execution_count": null,
      "outputs": []
    },
    {
      "cell_type": "code",
      "metadata": {
        "id": "AaJp69evlliX"
      },
      "source": [
        "qs_[0][1]"
      ],
      "execution_count": null,
      "outputs": []
    },
    {
      "cell_type": "code",
      "metadata": {
        "id": "CSlc0SZl9LMQ"
      },
      "source": [
        "qmanual.shape"
      ],
      "execution_count": null,
      "outputs": []
    },
    {
      "cell_type": "code",
      "metadata": {
        "id": "fXZLoaJG8QQ_"
      },
      "source": [
        "len(qmanual)"
      ],
      "execution_count": null,
      "outputs": []
    },
    {
      "cell_type": "code",
      "metadata": {
        "id": "RV1kKXBt-BLo"
      },
      "source": [
        "qmanual2 = np.concatenate((qmanual,qmanual), axis=0)"
      ],
      "execution_count": null,
      "outputs": []
    },
    {
      "cell_type": "code",
      "metadata": {
        "id": "QJxh7yPI-Fsi"
      },
      "source": [
        "qmanual2.shape"
      ],
      "execution_count": null,
      "outputs": []
    },
    {
      "cell_type": "code",
      "metadata": {
        "id": "Og_FLqQ5vekr"
      },
      "source": [
        "trackse = trackm.keys()\n",
        "#trackse = ['/mnt/c/Users/andre/OneDrive/Music/Library/DB/a-ha - Take on Me (Extended Mix).mp3', '/mnt/c/Users/andre/OneDrive/Music/Library/DB/a-ha - Take on Me (Extended Mix).mp3', '/mnt/c/Users/andre/OneDrive/Music/Library/DB/a-ha - Take on Me (Extended Mix).mp3', '/mnt/c/Users/andre/OneDrive/Music/Library/DB/a-ha - Take on Me (Extended Mix).mp3']\n",
        "valuese = [trackm[k] for k in trackse]\n",
        "trackme = np.concatenate(valuese)\n",
        "\n",
        "\n",
        "_111 = 2\n",
        "qmanual2 = np.concatenate((qmanual,qmanual), axis=0)\n",
        "q2 =  np.concatenate((trackm[str(qt)][1*(qs_[0][0]-_111):1*(qs_[0][1]-_111)],trackm[str(qt)][1*(qs_[0][0]-_111):1*(qs_[0][1]-_111)]), axis=0)\n",
        "q2f =  np.concatenate((trackf[str(qt)][1*(qs_[0][0]-_111):1*(qs_[0][1]-_111)],trackf[str(qt)][1*(qs_[0][0]-_111):1*(qs_[0][1]-_111)]), axis=0)\n",
        "\n",
        "\n",
        "print('****************************')\n",
        "print('qm:',len(qmanual), ', q2:',len(q2))\n",
        "\n",
        "#scoresfm = ultraWideQ2MeasuresMatch2(trackse, trackme,  trackf[str(qt)][1*(qs_[0][0]-_111):1*(qs_[0][1]-_111)], trackm[str(qt)][1*(qs_[0][0]-_111):1*(qs_[0][1]-_111)], qmix=0.6, divisionsPerBeat=1) #qmix=0.63 // trackf[str(qt)][32:5*32]\n",
        "scoresfm = ultraWideQ2MeasuresMatch2(trackse, trackme,  qmanual2, q2, qmix=0., divisionsPerBeat=1) #qmix=0.63 // trackf[str(qt)][32:5*32]\n"
      ],
      "execution_count": null,
      "outputs": []
    },
    {
      "cell_type": "code",
      "metadata": {
        "id": "kc7QFJXWPP01"
      },
      "source": [
        "# trackse = trackm.keys()\n",
        "# #trackse = ['/mnt/c/Users/andre/OneDrive/Music/Library/DB/Albert One - Heart On Fire (Special Maxi Mix).mp3', str(qt), '/mnt/c/Users/andre/OneDrive/Music/Library/DB/a-ha - Take on Me (Extended Mix).mp3', '/mnt/c/Users/andre/OneDrive/Music/Library/DB/a-ha - Take on Me (Extended Mix).mp3', '/mnt/c/Users/andre/OneDrive/Music/Library/DB/a-ha - Take on Me (Extended Mix).mp3']\n",
        "# #trackse = [str(qt), str(qt)]\n",
        "# valuese = [trackm[k] for k in trackse]\n",
        "# trackme = np.concatenate(valuese)\n",
        "\n",
        "# scoresfm = ultraWideQ2MeasuresMatch(trackse, trackme, trackm[str(qt)][32:5*32], divisionsPerBeat=1) #qmix=0.63\n"
      ],
      "execution_count": null,
      "outputs": []
    },
    {
      "cell_type": "code",
      "metadata": {
        "id": "1lYvkbfphyM2"
      },
      "source": [
        "scorefm = score2"
      ],
      "execution_count": null,
      "outputs": []
    },
    {
      "cell_type": "code",
      "metadata": {
        "id": "FaL7jULnveks"
      },
      "source": [
        "scoresfm.sort(key=lambda s: s[0], reverse=True)"
      ],
      "execution_count": null,
      "outputs": []
    },
    {
      "cell_type": "code",
      "metadata": {
        "id": "noQG3pjuveku"
      },
      "source": [
        "print(scoresfm[0])\n",
        "print(scoresfm[1])\n",
        "print(scoresfm[2])\n",
        "print(scoresfm[3])\n",
        "print(scoresfm[4])"
      ],
      "execution_count": null,
      "outputs": []
    },
    {
      "cell_type": "code",
      "metadata": {
        "id": "uheWqFNgrPzM"
      },
      "source": [
        "def odd(p):\n",
        "  for i in range(0, len(p), 4):\n",
        "    if p[i]==2 or p[i] % 4 != 0:\n",
        "      print(p, p[i])\n",
        "      return True\n",
        "  return False"
      ],
      "execution_count": null,
      "outputs": []
    },
    {
      "cell_type": "code",
      "metadata": {
        "id": "pB_MKTrHnq3V"
      },
      "source": [
        "qt"
      ],
      "execution_count": null,
      "outputs": []
    },
    {
      "cell_type": "code",
      "metadata": {
        "id": "iWItMEANvekv"
      },
      "source": [
        "#verbessern: zuest anzeige, dann musik\n",
        "loop = loops[0]\n",
        "for s in scoresfm[80:100]:\n",
        "  if odd(s[4]) or True:\n",
        "    print(s)\n",
        "    outputMix(loop, s, '8', _pattternind=4)\n",
        "    # outputMix(loop, s, '4', _pattternind=7)\n",
        "    # outputMix(loop, s, '2', _pattternind=10)\n",
        "    # outputMix(loop, s, '1', _pattternind=13)\n"
      ],
      "execution_count": null,
      "outputs": []
    },
    {
      "cell_type": "code",
      "metadata": {
        "id": "g887GiqN_5zM"
      },
      "source": [
        "seen = dict()\n",
        "pos = 0"
      ],
      "execution_count": null,
      "outputs": []
    },
    {
      "cell_type": "code",
      "metadata": {
        "id": "Ff2EV0K8_5zP"
      },
      "source": [
        "loop=(loops[0][0]*2, loops[0][1])\n",
        "shown = 0\n",
        "\n",
        "\n",
        "while True:\n",
        " \n",
        "\n",
        "\n",
        "  s = scoresfm[pos]\n",
        "  pos += 1\n",
        "  print(s)\n",
        "\n",
        "  id = s[1]\n",
        "\n",
        "  if id in seen:\n",
        "    count = seen[id]\n",
        "    if count > 0:\n",
        "      continue\n",
        "    else:\n",
        "      count +=1\n",
        "      seen[id]=count\n",
        "  else:\n",
        "    seen[id]=1\n",
        "\n",
        "  # if s[2] in [4, 6, 8]:\n",
        "  #   print(lookup[id].attrib['Comments'])  \n",
        "  #   outputMix(loop, s, scorest[sind])\n",
        "  #   outputMix(loop, s, scorest[sind], _2nd=True)\n",
        "\n",
        "    #shown+=1\n",
        "    # if shown < 100:\n",
        "    #   continue\n",
        "\n",
        "\n",
        "  print(getComment(lookup(id)))  \n",
        "  # if s[1]=='/mnt/c/Users/andre/OneDrive/Music/Library/DB/Alphaville - Sounds Like a Melody (2019 Remaster).mp3':\n",
        "  #   continue\n",
        "    \n",
        "  mix = outputMix(loop, s, 'Manual4', _pattternind=4, showmix=True)\n",
        "  #mixes.append(mix)\n",
        "  # outputMix(loop, s, '4', _pattternind=7)\n",
        "  # outputMix(loop, s, '2<8', _pattternind=11)\n",
        "  # outputMix(loop, s, '1<8', _pattternind=14)\n",
        "  shown+=1\n",
        "\n",
        "  if shown > 20:\n",
        "    # mixout = AudioSegment.empty()\n",
        "    # for mix in mixes:\n",
        "    #   mixout = mixout + mix\n",
        "    # IPython.display.display(mixout)\n",
        "    break\n",
        "    "
      ],
      "execution_count": null,
      "outputs": []
    },
    {
      "cell_type": "code",
      "metadata": {
        "id": "xh_ROnPUdByu"
      },
      "source": [
        "score1 = scoresfm[0:1000]\n",
        "score1 = score1[0:200]\n",
        "\n",
        "\n",
        "A = set()\n",
        "A.update([s[1] for s in score1])\n",
        "len(A)\n",
        "\n"
      ],
      "execution_count": null,
      "outputs": []
    },
    {
      "cell_type": "code",
      "metadata": {
        "id": "vrM7GP6kfBxL"
      },
      "source": [
        "score2 = scoresfm[0:1000]\n",
        "score2 = score2[0:200]\n",
        "\n",
        "B = set()\n",
        "B.update([s[1] for s in score2])\n",
        "len(B)"
      ],
      "execution_count": null,
      "outputs": []
    },
    {
      "cell_type": "code",
      "metadata": {
        "id": "RYw7e5N7eFfm"
      },
      "source": [
        "len(B.intersection(A))"
      ],
      "execution_count": null,
      "outputs": []
    },
    {
      "cell_type": "code",
      "metadata": {
        "id": "ktYNpS6JnVma"
      },
      "source": [
        "628/829"
      ],
      "execution_count": null,
      "outputs": []
    },
    {
      "cell_type": "code",
      "metadata": {
        "id": "l28pH88sOpBT"
      },
      "source": [
        "#p = manualMode(qstring.split())"
      ],
      "execution_count": null,
      "outputs": []
    },
    {
      "cell_type": "code",
      "metadata": {
        "id": "0yGWbu3KW2bZ"
      },
      "source": [
        "def findScore(scores, title):\n",
        "  for i, s in enumerate(scores):\n",
        "    if s[1].lower().find(title) > 0:\n",
        "      print(i, s)"
      ],
      "execution_count": null,
      "outputs": []
    },
    {
      "cell_type": "code",
      "metadata": {
        "id": "Dh6nddhkZ2VE"
      },
      "source": [
        ""
      ],
      "execution_count": null,
      "outputs": []
    },
    {
      "cell_type": "code",
      "metadata": {
        "id": "wOuQjRotXBuk"
      },
      "source": [
        "findScore(scoresfm, 'stride')"
      ],
      "execution_count": null,
      "outputs": []
    },
    {
      "cell_type": "code",
      "metadata": {
        "id": "7ooP90ixXK1x"
      },
      "source": [
        ""
      ],
      "execution_count": null,
      "outputs": []
    }
  ]
}